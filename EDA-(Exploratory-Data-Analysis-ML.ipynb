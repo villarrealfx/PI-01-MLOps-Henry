{
 "cells": [
  {
   "cell_type": "markdown",
   "id": "9431b607",
   "metadata": {},
   "source": [
    "# Análisis Exploratorio de Datos (EDA)"
   ]
  },
  {
   "cell_type": "markdown",
   "id": "916c60c2",
   "metadata": {},
   "source": [
    "## 1. El problema del negocio\n",
    "\n",
    "Una start-up que provee servicios de agregación de plataformas de streaming solicita la realización en todas sus etapas de <span style=\"color:darkgreen\">un sistema de recomendación de películas</span>, para este proyecto fué suministrado al **Data Scientist** un conjunto de archivos en formatos **.csv y excel** los cuales requirienro un trabajo conciente de [E.T.L](ETL-(Extract-Transform-Load).ipynb). el cual encontrará siguiendo el enlace "
   ]
  },
  {
   "cell_type": "markdown",
   "id": "d1a36638",
   "metadata": {},
   "source": [
    "## 2. El set de datos después de la limpieza\n",
    "\n",
    "La información una vez procesada se encuentra en un CSV (`movies_cleaned.csv`) con 43.641 filas y 15 columnas.\n",
    "\n",
    "Cada registro contiene xx características lLas columnas son las siguientes:\n",
    "1. **belongs_to_collection**: Franquicia o serie de películas a la que pertenece la película.\n",
    "2. **budget**: El presupuesto de la película, en dólares.\n",
    "3. **genres**: Una lista que indica todos los géneros asociados a la película.\n",
    "4. **id**: ID de la pelicula.\n",
    "5. **original_language**: Codigo ISO639 del idioma original en la que se grabo la pelicula.\n",
    "6. **overview**: Resumen de la película.\n",
    "7. **production_companies**: Lista con las compañias productoras asociadas a la película.\n",
    "8. **production_countries**: Lista con los países donde se produjo la película.\n",
    "9. **release_date**: Fecha de estreno de la película.\n",
    "10. **revenue**: Recaudación de la pelicula, en dolares (Tambien se toma como Ganancia para fines de éste trabajo).\n",
    "11. **runtime**: Duración de la película, en minutos.\n",
    "12. **title**: Titulo de la pelicula.\n",
    "13. **cast**: Personal artístico protagónico de la película.\n",
    "14. **director**: Nombre del director de la película.\n",
    "15. **return**: Proporción de retorno de inversión\n"
   ]
  },
  {
   "cell_type": "markdown",
   "id": "78e4b959",
   "metadata": {},
   "source": [
    "## 3. Lectura del dataset"
   ]
  },
  {
   "cell_type": "code",
   "execution_count": 1,
   "id": "a29be412",
   "metadata": {},
   "outputs": [],
   "source": [
    "# Importar librerías\n",
    "import pandas as pd\n",
    "import matplotlib.pyplot as plt\n",
    "import seaborn as sns"
   ]
  },
  {
   "cell_type": "code",
   "execution_count": 2,
   "id": "cc1e06b7",
   "metadata": {},
   "outputs": [],
   "source": [
    "# Lectura\n",
    "path = \"datasets/movies_cleaned.csv\"\n",
    "data = pd.read_csv(path)"
   ]
  },
  {
   "cell_type": "code",
   "execution_count": 3,
   "id": "5731bd73",
   "metadata": {},
   "outputs": [
    {
     "name": "stdout",
     "output_type": "stream",
     "text": [
      "(43641, 15)\n"
     ]
    },
    {
     "data": {
      "text/html": [
       "<div>\n",
       "<style scoped>\n",
       "    .dataframe tbody tr th:only-of-type {\n",
       "        vertical-align: middle;\n",
       "    }\n",
       "\n",
       "    .dataframe tbody tr th {\n",
       "        vertical-align: top;\n",
       "    }\n",
       "\n",
       "    .dataframe thead th {\n",
       "        text-align: right;\n",
       "    }\n",
       "</style>\n",
       "<table border=\"1\" class=\"dataframe\">\n",
       "  <thead>\n",
       "    <tr style=\"text-align: right;\">\n",
       "      <th></th>\n",
       "      <th>belongs_to_collection</th>\n",
       "      <th>budget</th>\n",
       "      <th>genres</th>\n",
       "      <th>id</th>\n",
       "      <th>original_language</th>\n",
       "      <th>overview</th>\n",
       "      <th>production_companies</th>\n",
       "      <th>production_countries</th>\n",
       "      <th>release_date</th>\n",
       "      <th>revenue</th>\n",
       "      <th>runtime</th>\n",
       "      <th>title</th>\n",
       "      <th>cast</th>\n",
       "      <th>director</th>\n",
       "      <th>return</th>\n",
       "    </tr>\n",
       "  </thead>\n",
       "  <tbody>\n",
       "    <tr>\n",
       "      <th>0</th>\n",
       "      <td>toy story collection</td>\n",
       "      <td>30000000.0</td>\n",
       "      <td>['animation', 'comedy', 'family']</td>\n",
       "      <td>862</td>\n",
       "      <td>en</td>\n",
       "      <td>Led by Woody, Andy's toys live happily in his ...</td>\n",
       "      <td>['pixar animation studios']</td>\n",
       "      <td>['united states of america']</td>\n",
       "      <td>1995-10-30</td>\n",
       "      <td>373554033.0</td>\n",
       "      <td>81.0</td>\n",
       "      <td>Toy Story</td>\n",
       "      <td>['tom hanks', 'tim allen', 'don rickles', 'jim...</td>\n",
       "      <td>John Lasseter</td>\n",
       "      <td>12.451801</td>\n",
       "    </tr>\n",
       "    <tr>\n",
       "      <th>1</th>\n",
       "      <td>no collection</td>\n",
       "      <td>65000000.0</td>\n",
       "      <td>['adventure', 'fantasy', 'family']</td>\n",
       "      <td>8844</td>\n",
       "      <td>en</td>\n",
       "      <td>When siblings Judy and Peter discover an encha...</td>\n",
       "      <td>['tristar pictures', 'teitler film', 'intersco...</td>\n",
       "      <td>['united states of america']</td>\n",
       "      <td>1995-12-15</td>\n",
       "      <td>262797249.0</td>\n",
       "      <td>104.0</td>\n",
       "      <td>Jumanji</td>\n",
       "      <td>['robin williams', 'jonathan hyde', 'kirsten d...</td>\n",
       "      <td>Joe Johnston</td>\n",
       "      <td>4.043035</td>\n",
       "    </tr>\n",
       "    <tr>\n",
       "      <th>2</th>\n",
       "      <td>grumpy old men collection</td>\n",
       "      <td>0.0</td>\n",
       "      <td>['romance', 'comedy']</td>\n",
       "      <td>15602</td>\n",
       "      <td>en</td>\n",
       "      <td>A family wedding reignites the ancient feud be...</td>\n",
       "      <td>['warner bros.', 'lancaster gate']</td>\n",
       "      <td>['united states of america']</td>\n",
       "      <td>1995-12-22</td>\n",
       "      <td>0.0</td>\n",
       "      <td>101.0</td>\n",
       "      <td>Grumpier Old Men</td>\n",
       "      <td>['walter matthau', 'jack lemmon', 'ann-margret...</td>\n",
       "      <td>Howard Deutch</td>\n",
       "      <td>0.000000</td>\n",
       "    </tr>\n",
       "    <tr>\n",
       "      <th>3</th>\n",
       "      <td>no collection</td>\n",
       "      <td>16000000.0</td>\n",
       "      <td>['comedy', 'drama', 'romance']</td>\n",
       "      <td>31357</td>\n",
       "      <td>en</td>\n",
       "      <td>Cheated on, mistreated and stepped on, the wom...</td>\n",
       "      <td>['twentieth century fox film corporation']</td>\n",
       "      <td>['united states of america']</td>\n",
       "      <td>1995-12-22</td>\n",
       "      <td>81452156.0</td>\n",
       "      <td>127.0</td>\n",
       "      <td>Waiting to Exhale</td>\n",
       "      <td>['whitney houston', 'angela bassett', 'loretta...</td>\n",
       "      <td>Forest Whitaker</td>\n",
       "      <td>5.090760</td>\n",
       "    </tr>\n",
       "    <tr>\n",
       "      <th>4</th>\n",
       "      <td>father of the bride collection</td>\n",
       "      <td>0.0</td>\n",
       "      <td>['comedy']</td>\n",
       "      <td>11862</td>\n",
       "      <td>en</td>\n",
       "      <td>Just when George Banks has recovered from his ...</td>\n",
       "      <td>['sandollar productions', 'touchstone pictures']</td>\n",
       "      <td>['united states of america']</td>\n",
       "      <td>1995-02-10</td>\n",
       "      <td>76578911.0</td>\n",
       "      <td>106.0</td>\n",
       "      <td>Father of the Bride Part II</td>\n",
       "      <td>['steve martin', 'diane keaton', 'martin short...</td>\n",
       "      <td>Charles Shyer</td>\n",
       "      <td>0.000000</td>\n",
       "    </tr>\n",
       "  </tbody>\n",
       "</table>\n",
       "</div>"
      ],
      "text/plain": [
       "            belongs_to_collection      budget  \\\n",
       "0            toy story collection  30000000.0   \n",
       "1                   no collection  65000000.0   \n",
       "2       grumpy old men collection         0.0   \n",
       "3                   no collection  16000000.0   \n",
       "4  father of the bride collection         0.0   \n",
       "\n",
       "                               genres     id original_language  \\\n",
       "0   ['animation', 'comedy', 'family']    862                en   \n",
       "1  ['adventure', 'fantasy', 'family']   8844                en   \n",
       "2               ['romance', 'comedy']  15602                en   \n",
       "3      ['comedy', 'drama', 'romance']  31357                en   \n",
       "4                          ['comedy']  11862                en   \n",
       "\n",
       "                                            overview  \\\n",
       "0  Led by Woody, Andy's toys live happily in his ...   \n",
       "1  When siblings Judy and Peter discover an encha...   \n",
       "2  A family wedding reignites the ancient feud be...   \n",
       "3  Cheated on, mistreated and stepped on, the wom...   \n",
       "4  Just when George Banks has recovered from his ...   \n",
       "\n",
       "                                production_companies  \\\n",
       "0                        ['pixar animation studios']   \n",
       "1  ['tristar pictures', 'teitler film', 'intersco...   \n",
       "2                 ['warner bros.', 'lancaster gate']   \n",
       "3         ['twentieth century fox film corporation']   \n",
       "4   ['sandollar productions', 'touchstone pictures']   \n",
       "\n",
       "           production_countries release_date      revenue  runtime  \\\n",
       "0  ['united states of america']   1995-10-30  373554033.0     81.0   \n",
       "1  ['united states of america']   1995-12-15  262797249.0    104.0   \n",
       "2  ['united states of america']   1995-12-22          0.0    101.0   \n",
       "3  ['united states of america']   1995-12-22   81452156.0    127.0   \n",
       "4  ['united states of america']   1995-02-10   76578911.0    106.0   \n",
       "\n",
       "                         title  \\\n",
       "0                    Toy Story   \n",
       "1                      Jumanji   \n",
       "2             Grumpier Old Men   \n",
       "3            Waiting to Exhale   \n",
       "4  Father of the Bride Part II   \n",
       "\n",
       "                                                cast         director  \\\n",
       "0  ['tom hanks', 'tim allen', 'don rickles', 'jim...    John Lasseter   \n",
       "1  ['robin williams', 'jonathan hyde', 'kirsten d...     Joe Johnston   \n",
       "2  ['walter matthau', 'jack lemmon', 'ann-margret...    Howard Deutch   \n",
       "3  ['whitney houston', 'angela bassett', 'loretta...  Forest Whitaker   \n",
       "4  ['steve martin', 'diane keaton', 'martin short...    Charles Shyer   \n",
       "\n",
       "      return  \n",
       "0  12.451801  \n",
       "1   4.043035  \n",
       "2   0.000000  \n",
       "3   5.090760  \n",
       "4   0.000000  "
      ]
     },
     "execution_count": 3,
     "metadata": {},
     "output_type": "execute_result"
    }
   ],
   "source": [
    "print(data.shape)\n",
    "data.head()"
   ]
  },
  {
   "cell_type": "markdown",
   "id": "94daf67d",
   "metadata": {},
   "source": [
    "## 4. Análisis exploratorio\n",
    "\n",
    "La idea es usar herramientas estadísticas y de visualización para:\n",
    "\n",
    "- Crear un mapa mental del set de datos (entenderlo)\n",
    "- Empezar a encontrar respuestas para encontrar las mejores prácticas para lograr un sistema de recomendación de películas exitoso y confiable."
   ]
  },
  {
   "cell_type": "markdown",
   "id": "b3023d41",
   "metadata": {},
   "source": [
    "### 4.1 Análisis de cada variable de manera individual\n",
    "\n",
    "Nos permite entender las características generales de cada variable de nuestro set de datos."
   ]
  },
  {
   "cell_type": "code",
   "execution_count": 4,
   "id": "6a3e7629",
   "metadata": {},
   "outputs": [
    {
     "name": "stdout",
     "output_type": "stream",
     "text": [
      "<class 'pandas.core.frame.DataFrame'>\n",
      "RangeIndex: 43641 entries, 0 to 43640\n",
      "Data columns (total 15 columns):\n",
      " #   Column                 Non-Null Count  Dtype  \n",
      "---  ------                 --------------  -----  \n",
      " 0   belongs_to_collection  43641 non-null  object \n",
      " 1   budget                 43641 non-null  float64\n",
      " 2   genres                 43641 non-null  object \n",
      " 3   id                     43641 non-null  int64  \n",
      " 4   original_language      43641 non-null  object \n",
      " 5   overview               43641 non-null  object \n",
      " 6   production_companies   43641 non-null  object \n",
      " 7   production_countries   43641 non-null  object \n",
      " 8   release_date           43641 non-null  object \n",
      " 9   revenue                43641 non-null  float64\n",
      " 10  runtime                43641 non-null  float64\n",
      " 11  title                  43641 non-null  object \n",
      " 12  cast                   43641 non-null  object \n",
      " 13  director               43641 non-null  object \n",
      " 14  return                 43641 non-null  float64\n",
      "dtypes: float64(4), int64(1), object(10)\n",
      "memory usage: 5.0+ MB\n"
     ]
    }
   ],
   "source": [
    "# Verificar la información general del set de datos\n",
    "data.info()"
   ]
  },
  {
   "cell_type": "code",
   "execution_count": 5,
   "id": "3ff54e2b",
   "metadata": {},
   "outputs": [
    {
     "data": {
      "text/html": [
       "<div>\n",
       "<style scoped>\n",
       "    .dataframe tbody tr th:only-of-type {\n",
       "        vertical-align: middle;\n",
       "    }\n",
       "\n",
       "    .dataframe tbody tr th {\n",
       "        vertical-align: top;\n",
       "    }\n",
       "\n",
       "    .dataframe thead th {\n",
       "        text-align: right;\n",
       "    }\n",
       "</style>\n",
       "<table border=\"1\" class=\"dataframe\">\n",
       "  <thead>\n",
       "    <tr style=\"text-align: right;\">\n",
       "      <th></th>\n",
       "      <th>budget</th>\n",
       "      <th>id</th>\n",
       "      <th>revenue</th>\n",
       "      <th>runtime</th>\n",
       "      <th>return</th>\n",
       "    </tr>\n",
       "  </thead>\n",
       "  <tbody>\n",
       "    <tr>\n",
       "      <th>count</th>\n",
       "      <td>4.364100e+04</td>\n",
       "      <td>43641.000000</td>\n",
       "      <td>4.364100e+04</td>\n",
       "      <td>43641.000000</td>\n",
       "      <td>4.364100e+04</td>\n",
       "    </tr>\n",
       "    <tr>\n",
       "      <th>mean</th>\n",
       "      <td>4.392429e+06</td>\n",
       "      <td>105551.922321</td>\n",
       "      <td>1.166978e+07</td>\n",
       "      <td>95.452648</td>\n",
       "      <td>6.862830e+02</td>\n",
       "    </tr>\n",
       "    <tr>\n",
       "      <th>std</th>\n",
       "      <td>1.776015e+07</td>\n",
       "      <td>111074.305613</td>\n",
       "      <td>6.561732e+07</td>\n",
       "      <td>36.563856</td>\n",
       "      <td>7.616350e+04</td>\n",
       "    </tr>\n",
       "    <tr>\n",
       "      <th>min</th>\n",
       "      <td>0.000000e+00</td>\n",
       "      <td>2.000000</td>\n",
       "      <td>0.000000e+00</td>\n",
       "      <td>0.000000</td>\n",
       "      <td>0.000000e+00</td>\n",
       "    </tr>\n",
       "    <tr>\n",
       "      <th>25%</th>\n",
       "      <td>0.000000e+00</td>\n",
       "      <td>25587.000000</td>\n",
       "      <td>0.000000e+00</td>\n",
       "      <td>86.000000</td>\n",
       "      <td>0.000000e+00</td>\n",
       "    </tr>\n",
       "    <tr>\n",
       "      <th>50%</th>\n",
       "      <td>0.000000e+00</td>\n",
       "      <td>57536.000000</td>\n",
       "      <td>0.000000e+00</td>\n",
       "      <td>95.000000</td>\n",
       "      <td>0.000000e+00</td>\n",
       "    </tr>\n",
       "    <tr>\n",
       "      <th>75%</th>\n",
       "      <td>0.000000e+00</td>\n",
       "      <td>149154.000000</td>\n",
       "      <td>0.000000e+00</td>\n",
       "      <td>107.000000</td>\n",
       "      <td>0.000000e+00</td>\n",
       "    </tr>\n",
       "    <tr>\n",
       "      <th>max</th>\n",
       "      <td>3.800000e+08</td>\n",
       "      <td>469172.000000</td>\n",
       "      <td>2.787965e+09</td>\n",
       "      <td>1256.000000</td>\n",
       "      <td>1.239638e+07</td>\n",
       "    </tr>\n",
       "  </tbody>\n",
       "</table>\n",
       "</div>"
      ],
      "text/plain": [
       "             budget             id       revenue       runtime        return\n",
       "count  4.364100e+04   43641.000000  4.364100e+04  43641.000000  4.364100e+04\n",
       "mean   4.392429e+06  105551.922321  1.166978e+07     95.452648  6.862830e+02\n",
       "std    1.776015e+07  111074.305613  6.561732e+07     36.563856  7.616350e+04\n",
       "min    0.000000e+00       2.000000  0.000000e+00      0.000000  0.000000e+00\n",
       "25%    0.000000e+00   25587.000000  0.000000e+00     86.000000  0.000000e+00\n",
       "50%    0.000000e+00   57536.000000  0.000000e+00     95.000000  0.000000e+00\n",
       "75%    0.000000e+00  149154.000000  0.000000e+00    107.000000  0.000000e+00\n",
       "max    3.800000e+08  469172.000000  2.787965e+09   1256.000000  1.239638e+07"
      ]
     },
     "execution_count": 5,
     "metadata": {},
     "output_type": "execute_result"
    }
   ],
   "source": [
    "# Podemos extraer algunas variables estadísticas descriptivas básicas\n",
    "data.describe()"
   ]
  },
  {
   "cell_type": "code",
   "execution_count": null,
   "id": "6e38f47d",
   "metadata": {},
   "outputs": [],
   "source": []
  },
  {
   "cell_type": "markdown",
   "id": "8f6c5fbd",
   "metadata": {},
   "source": []
  },
  {
   "cell_type": "code",
   "execution_count": 6,
   "id": "2ccdb77b",
   "metadata": {},
   "outputs": [],
   "source": [
    "# De las caracteristicas de genero, actor, director y overview\n",
    "nro_registros = 1000\n",
    "features = ['genres', 'director', 'cast', 'overview', 'title']\n",
    "df_ml = data[features].head(nro_registros)\n",
    "df_ml = data.dropna(how='any', subset=features)"
   ]
  },
  {
   "cell_type": "code",
   "execution_count": 7,
   "id": "4d4620a9",
   "metadata": {},
   "outputs": [
    {
     "name": "stderr",
     "output_type": "stream",
     "text": [
      "[nltk_data] Downloading package stopwords to /home/cnd-\n",
      "[nltk_data]     sen/nltk_data...\n",
      "[nltk_data]   Package stopwords is already up-to-date!\n"
     ]
    }
   ],
   "source": [
    "# Limpiando la data\n",
    "# !pip install nltk\n",
    "import nltk\n",
    "import re\n",
    "\n",
    "# stopwords\n",
    "nltk.download('stopwords')\n",
    "\n",
    "stemmer = nltk.SnowballStemmer(\"english\")\n",
    "\n",
    "from nltk.corpus import stopwords\n",
    "import string\n",
    "\n",
    "stopword = set(stopwords.words(\"english\"))\n",
    "\n",
    "# Definimos función de limpieza\n",
    "def clean_data(text):\n",
    "    text = str(text).lower()\n",
    "    text = re.sub('\\[.*?\\]', '', text)\n",
    "    text = re.sub('https?://\\S+|www\\.\\S+', '', text)\n",
    "    text = re.sub('<.*?>+', '', text)\n",
    "    text = re.sub('[%s]' % re.escape(string.punctuation), '', text)\n",
    "    text = re.sub('\\n', '', text)\n",
    "    text = re.sub('\\w*\\d\\w*', '', text)\n",
    "    text = [word for word in text.split(' ') if word not in stopword]\n",
    "    text=\" \".join(text)\n",
    "    text = [stemmer.stem(word) for word in text.split(' ')]\n",
    "    text=\" \".join(text)\n",
    "    return text"
   ]
  },
  {
   "cell_type": "code",
   "execution_count": 8,
   "id": "c0c2b920",
   "metadata": {},
   "outputs": [
    {
     "data": {
      "text/html": [
       "<div>\n",
       "<style scoped>\n",
       "    .dataframe tbody tr th:only-of-type {\n",
       "        vertical-align: middle;\n",
       "    }\n",
       "\n",
       "    .dataframe tbody tr th {\n",
       "        vertical-align: top;\n",
       "    }\n",
       "\n",
       "    .dataframe thead th {\n",
       "        text-align: right;\n",
       "    }\n",
       "</style>\n",
       "<table border=\"1\" class=\"dataframe\">\n",
       "  <thead>\n",
       "    <tr style=\"text-align: right;\">\n",
       "      <th></th>\n",
       "      <th>belongs_to_collection</th>\n",
       "      <th>budget</th>\n",
       "      <th>genres</th>\n",
       "      <th>id</th>\n",
       "      <th>original_language</th>\n",
       "      <th>overview</th>\n",
       "      <th>production_companies</th>\n",
       "      <th>production_countries</th>\n",
       "      <th>release_date</th>\n",
       "      <th>revenue</th>\n",
       "      <th>runtime</th>\n",
       "      <th>title</th>\n",
       "      <th>cast</th>\n",
       "      <th>director</th>\n",
       "      <th>return</th>\n",
       "    </tr>\n",
       "  </thead>\n",
       "  <tbody>\n",
       "    <tr>\n",
       "      <th>0</th>\n",
       "      <td>toy story collection</td>\n",
       "      <td>30000000.0</td>\n",
       "      <td></td>\n",
       "      <td>862</td>\n",
       "      <td>en</td>\n",
       "      <td>led woodi andi toy live happili room andi birt...</td>\n",
       "      <td>['pixar animation studios']</td>\n",
       "      <td>['united states of america']</td>\n",
       "      <td>1995-10-30</td>\n",
       "      <td>373554033.0</td>\n",
       "      <td>81.0</td>\n",
       "      <td>Toy Story</td>\n",
       "      <td></td>\n",
       "      <td>john lasset</td>\n",
       "      <td>12.451801</td>\n",
       "    </tr>\n",
       "    <tr>\n",
       "      <th>1</th>\n",
       "      <td>no collection</td>\n",
       "      <td>65000000.0</td>\n",
       "      <td></td>\n",
       "      <td>8844</td>\n",
       "      <td>en</td>\n",
       "      <td>sibl judi peter discov enchant board game open...</td>\n",
       "      <td>['tristar pictures', 'teitler film', 'intersco...</td>\n",
       "      <td>['united states of america']</td>\n",
       "      <td>1995-12-15</td>\n",
       "      <td>262797249.0</td>\n",
       "      <td>104.0</td>\n",
       "      <td>Jumanji</td>\n",
       "      <td></td>\n",
       "      <td>joe johnston</td>\n",
       "      <td>4.043035</td>\n",
       "    </tr>\n",
       "  </tbody>\n",
       "</table>\n",
       "</div>"
      ],
      "text/plain": [
       "  belongs_to_collection      budget genres    id original_language  \\\n",
       "0  toy story collection  30000000.0          862                en   \n",
       "1         no collection  65000000.0         8844                en   \n",
       "\n",
       "                                            overview  \\\n",
       "0  led woodi andi toy live happili room andi birt...   \n",
       "1  sibl judi peter discov enchant board game open...   \n",
       "\n",
       "                                production_companies  \\\n",
       "0                        ['pixar animation studios']   \n",
       "1  ['tristar pictures', 'teitler film', 'intersco...   \n",
       "\n",
       "           production_countries release_date      revenue  runtime      title  \\\n",
       "0  ['united states of america']   1995-10-30  373554033.0     81.0  Toy Story   \n",
       "1  ['united states of america']   1995-12-15  262797249.0    104.0    Jumanji   \n",
       "\n",
       "  cast      director     return  \n",
       "0        john lasset  12.451801  \n",
       "1       joe johnston   4.043035  "
      ]
     },
     "execution_count": 8,
     "metadata": {},
     "output_type": "execute_result"
    }
   ],
   "source": [
    "for feature in features:\n",
    "    if feature not in  ['title']:\n",
    "        df_ml[feature] = df_ml[feature].apply(clean_data)\n",
    "\n",
    "df_ml.head(2)"
   ]
  },
  {
   "cell_type": "code",
   "execution_count": 9,
   "id": "3acb503c",
   "metadata": {},
   "outputs": [],
   "source": [
    "# Ahora podemos crear nuestra 'sopa de metadatos', que es una cadena que contiene\n",
    "# todos los metadatos que queremos alimentar a nuestro vectorizador\n",
    "def create_soup(x):\n",
    "    return x['genres'] + ' ' + x['director'] + ' ' + x['cast'] + ' ' + x['overview']"
   ]
  },
  {
   "cell_type": "code",
   "execution_count": 10,
   "id": "0c82d576",
   "metadata": {},
   "outputs": [
    {
     "data": {
      "text/plain": [
       "' john lasset  led woodi andi toy live happili room andi birthday bring buzz lightyear onto scene afraid lose place andi heart woodi plot buzz circumst separ buzz woodi owner duo eventu learn put asid differ'"
      ]
     },
     "execution_count": 10,
     "metadata": {},
     "output_type": "execute_result"
    }
   ],
   "source": [
    "df_ml['soup'] = df_ml.apply(create_soup, axis=1)\n",
    "df_ml['soup'][0]"
   ]
  },
  {
   "cell_type": "code",
   "execution_count": 11,
   "id": "2f8e9605",
   "metadata": {},
   "outputs": [],
   "source": [
    "# Import CountVectorizer and create the cuount matrix\n",
    "from sklearn. feature_extraction.text import CountVectorizer\n",
    "\n",
    "count = CountVectorizer()\n",
    "count_matrix = count.fit_transform(df_ml['soup'])"
   ]
  },
  {
   "cell_type": "code",
   "execution_count": null,
   "id": "9a90cca0",
   "metadata": {},
   "outputs": [],
   "source": [
    "# Compute the cosine similarity matrix based on the count_matrix\n",
    "from sklearn.metrics.pairwise import cosine_similarity\n",
    "\n",
    "cosine_sim = cosine_similarity(count_matrix, count_matrix)"
   ]
  },
  {
   "cell_type": "code",
   "execution_count": null,
   "id": "e3f12367",
   "metadata": {},
   "outputs": [],
   "source": [
    "# Restablece el indice de nuestro Dataframe principal y construyo el mapeo inverso como antes\n",
    "df_ml = df_ml.reset_index()\n",
    "indices = pd.Series(df_ml.index, index=df_ml['title'])"
   ]
  },
  {
   "cell_type": "code",
   "execution_count": null,
   "id": "901b8c60",
   "metadata": {},
   "outputs": [],
   "source": [
    "def get_recomentacion(title, cosine_sim=cosine_sim):\n",
    "    idx = indices[title]\n",
    "\n",
    "    # Obtengo las puntuaciones de similitud por pares de todas las peliculas con esa pelicula\n",
    "    sim_scores = list(enumerate(cosine_sim[idx]))\n",
    "\n",
    "    # Ordene las peliculas segun las puntuaciones de similitud\n",
    "    sim_scores = sorted(sim_scores, key=lambda x: x[1], reverse=True)\n",
    "\n",
    "    # Obten las puntuaciones de las 5 peliculas mas similares\n",
    "    sim_scores = sim_scores[1:6]\n",
    "\n",
    "    # Obtenga los indices de las peliculas\n",
    "    movie_indices = [i[0] for i in sim_scores]\n",
    "\n",
    "    # Devuelve el top 10 de peliculas similares\n",
    "    return df_ml['title'].iloc[movie_indices]"
   ]
  },
  {
   "cell_type": "code",
   "execution_count": null,
   "id": "413d6cb6",
   "metadata": {},
   "outputs": [],
   "source": [
    "get_recomentacion('Born to Win')"
   ]
  },
  {
   "cell_type": "code",
   "execution_count": null,
   "id": "179fd83b",
   "metadata": {},
   "outputs": [],
   "source": []
  },
  {
   "cell_type": "code",
   "execution_count": null,
   "id": "0314eb28",
   "metadata": {},
   "outputs": [],
   "source": []
  },
  {
   "cell_type": "code",
   "execution_count": null,
   "id": "46161d4d",
   "metadata": {},
   "outputs": [],
   "source": []
  },
  {
   "cell_type": "code",
   "execution_count": null,
   "id": "b03b8c7e",
   "metadata": {},
   "outputs": [],
   "source": []
  },
  {
   "cell_type": "code",
   "execution_count": null,
   "id": "dc3ac63d",
   "metadata": {},
   "outputs": [],
   "source": []
  },
  {
   "cell_type": "code",
   "execution_count": null,
   "id": "c7fffc81",
   "metadata": {},
   "outputs": [],
   "source": []
  },
  {
   "cell_type": "code",
   "execution_count": null,
   "id": "35f830ab",
   "metadata": {},
   "outputs": [],
   "source": [
    "movies = data[['id','title','overview','genres','cast','director']]\n",
    "movies.sample(5)"
   ]
  },
  {
   "cell_type": "code",
   "execution_count": null,
   "id": "bcb7c722",
   "metadata": {},
   "outputs": [],
   "source": [
    "pd.options.mode.chained_assignment = None  # default='warn'\n",
    "movies['overview'] = movies['overview'].apply(lambda x:x.split())"
   ]
  },
  {
   "cell_type": "code",
   "execution_count": null,
   "id": "8b07b7f9",
   "metadata": {},
   "outputs": [],
   "source": [
    "movies.sample(5)"
   ]
  },
  {
   "cell_type": "code",
   "execution_count": null,
   "id": "55ab0515",
   "metadata": {},
   "outputs": [],
   "source": [
    "movies['director'] = movies['director'].apply(lambda x:[x])\n",
    "movies.sample(5)"
   ]
  },
  {
   "cell_type": "code",
   "execution_count": null,
   "id": "6fa6055b",
   "metadata": {},
   "outputs": [],
   "source": [
    "from ast import literal_eval\n",
    "movies['tags'] = movies['overview'] + movies['genres'].apply(literal_eval) + movies['cast'].apply(literal_eval) + movies['director']"
   ]
  },
  {
   "cell_type": "code",
   "execution_count": null,
   "id": "ed48d120",
   "metadata": {},
   "outputs": [],
   "source": [
    "new = movies.drop(columns=['overview','genres','cast','director'])"
   ]
  },
  {
   "cell_type": "code",
   "execution_count": null,
   "id": "213f9074",
   "metadata": {},
   "outputs": [],
   "source": [
    "new['tags'] = new['tags'].apply(lambda x: \" \".join(x))\n",
    "new.head()"
   ]
  },
  {
   "cell_type": "code",
   "execution_count": null,
   "id": "fa6cbe92",
   "metadata": {},
   "outputs": [],
   "source": [
    "from sklearn.feature_extraction.text import CountVectorizer\n",
    "cv = CountVectorizer(max_features=1000,stop_words='english')"
   ]
  },
  {
   "cell_type": "code",
   "execution_count": null,
   "id": "935475f7",
   "metadata": {},
   "outputs": [],
   "source": [
    "vector = cv.fit_transform(new['tags']).toarray()"
   ]
  },
  {
   "cell_type": "code",
   "execution_count": null,
   "id": "3c9c87a1",
   "metadata": {},
   "outputs": [],
   "source": [
    "vector.shape"
   ]
  },
  {
   "cell_type": "code",
   "execution_count": null,
   "id": "2fff674b",
   "metadata": {},
   "outputs": [],
   "source": [
    "from sklearn.metrics.pairwise import cosine_similarity"
   ]
  },
  {
   "cell_type": "code",
   "execution_count": null,
   "id": "78e11f0d",
   "metadata": {},
   "outputs": [],
   "source": [
    "similarity = cosine_similarity(vector)"
   ]
  },
  {
   "cell_type": "code",
   "execution_count": null,
   "id": "1a316972",
   "metadata": {},
   "outputs": [],
   "source": []
  }
 ],
 "metadata": {
  "kernelspec": {
   "display_name": "Python 3 (ipykernel)",
   "language": "python",
   "name": "python3"
  },
  "language_info": {
   "codemirror_mode": {
    "name": "ipython",
    "version": 3
   },
   "file_extension": ".py",
   "mimetype": "text/x-python",
   "name": "python",
   "nbconvert_exporter": "python",
   "pygments_lexer": "ipython3",
   "version": "3.10.6"
  }
 },
 "nbformat": 4,
 "nbformat_minor": 5
}
