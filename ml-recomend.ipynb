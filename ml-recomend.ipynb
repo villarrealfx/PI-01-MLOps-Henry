{
 "cells": [
  {
   "cell_type": "code",
   "execution_count": 1,
   "metadata": {},
   "outputs": [],
   "source": [
    "import pickle\n",
    "import pandas as pd\n",
    "\n",
    "from funtions.funtions import Movies\n",
    "\n",
    "# Cargar el archivo movie_list.pkl\n",
    "with open('datasets/movie_list_15.pkl', 'rb') as f:\n",
    "    movie_list = pickle.load(f)\n",
    "\n",
    "# Cargar el archivo similarity.pkl\n",
    "with open('datasets/similarity_15.pkl', 'rb') as f:\n",
    "    similarity = pickle.load(f)\n",
    "\n",
    "# Cargar el archivo indices.pkl\n",
    "with open('datasets/indices_15.pkl', 'rb') as f:\n",
    "    indices = pickle.load(f)"
   ]
  },
  {
   "cell_type": "code",
   "execution_count": 2,
   "metadata": {},
   "outputs": [],
   "source": [
    "movies = movie_list['title'].tolist()\n",
    "recommendation = []\n",
    "movie = Movies('datasets/movies_cleaned.csv')\n"
   ]
  },
  {
   "cell_type": "code",
   "execution_count": 3,
   "metadata": {},
   "outputs": [],
   "source": [
    "for movie_ in movies:\n",
    "    resul = movie.recomendacion(movie_, similarity, movie_list, indices)\n",
    "    recommendation.append({\n",
    "                            'movie': movie_,\n",
    "                            'recommendation': resul\n",
    "                            })"
   ]
  },
  {
   "cell_type": "code",
   "execution_count": 4,
   "metadata": {},
   "outputs": [
    {
     "data": {
      "text/html": [
       "<div>\n",
       "<style scoped>\n",
       "    .dataframe tbody tr th:only-of-type {\n",
       "        vertical-align: middle;\n",
       "    }\n",
       "\n",
       "    .dataframe tbody tr th {\n",
       "        vertical-align: top;\n",
       "    }\n",
       "\n",
       "    .dataframe thead th {\n",
       "        text-align: right;\n",
       "    }\n",
       "</style>\n",
       "<table border=\"1\" class=\"dataframe\">\n",
       "  <thead>\n",
       "    <tr style=\"text-align: right;\">\n",
       "      <th></th>\n",
       "      <th>movie</th>\n",
       "      <th>recommendation</th>\n",
       "    </tr>\n",
       "  </thead>\n",
       "  <tbody>\n",
       "    <tr>\n",
       "      <th>9890</th>\n",
       "      <td>King's Game</td>\n",
       "      <td>[The China Syndrome, Street Smart, Arabesque, ...</td>\n",
       "    </tr>\n",
       "    <tr>\n",
       "      <th>9081</th>\n",
       "      <td>Bleeder</td>\n",
       "      <td>[Circus, Flesh and the Devil, Bedrooms and Hal...</td>\n",
       "    </tr>\n",
       "    <tr>\n",
       "      <th>597</th>\n",
       "      <td>Fargo</td>\n",
       "      <td>[Panic, The Man Who Wasn't There, Lovers and O...</td>\n",
       "    </tr>\n",
       "    <tr>\n",
       "      <th>9120</th>\n",
       "      <td>Guest House Paradiso</td>\n",
       "      <td>[Come September, The Happiness of the Katakuri...</td>\n",
       "    </tr>\n",
       "    <tr>\n",
       "      <th>3376</th>\n",
       "      <td>East Is East</td>\n",
       "      <td>[My Father the Hero, Sunflower, Touch of Pink,...</td>\n",
       "    </tr>\n",
       "    <tr>\n",
       "      <th>6985</th>\n",
       "      <td>Mon oncle</td>\n",
       "      <td>[JLG/JLG: Self-Portrait in December, A Woman I...</td>\n",
       "    </tr>\n",
       "    <tr>\n",
       "      <th>1187</th>\n",
       "      <td>Chinatown</td>\n",
       "      <td>[The Two Jakes, Frantic, Knife in the Water, S...</td>\n",
       "    </tr>\n",
       "    <tr>\n",
       "      <th>1965</th>\n",
       "      <td>L.A. Story</td>\n",
       "      <td>[French Cancan, Twelfth Night, A Home of Our O...</td>\n",
       "    </tr>\n",
       "  </tbody>\n",
       "</table>\n",
       "</div>"
      ],
      "text/plain": [
       "                     movie                                     recommendation\n",
       "9890           King's Game  [The China Syndrome, Street Smart, Arabesque, ...\n",
       "9081               Bleeder  [Circus, Flesh and the Devil, Bedrooms and Hal...\n",
       "597                  Fargo  [Panic, The Man Who Wasn't There, Lovers and O...\n",
       "9120  Guest House Paradiso  [Come September, The Happiness of the Katakuri...\n",
       "3376          East Is East  [My Father the Hero, Sunflower, Touch of Pink,...\n",
       "6985             Mon oncle  [JLG/JLG: Self-Portrait in December, A Woman I...\n",
       "1187             Chinatown  [The Two Jakes, Frantic, Knife in the Water, S...\n",
       "1965            L.A. Story  [French Cancan, Twelfth Night, A Home of Our O..."
      ]
     },
     "execution_count": 4,
     "metadata": {},
     "output_type": "execute_result"
    }
   ],
   "source": [
    "df_rec = pd.DataFrame(recommendation)\n",
    "df_rec.sample(8)"
   ]
  },
  {
   "cell_type": "code",
   "execution_count": 5,
   "metadata": {},
   "outputs": [],
   "source": [
    "# se crea archivo csv para su uso en producción.\n",
    "df_rec.to_csv('datasets/ml_recomend.csv', index=False, encoding='utf-8')"
   ]
  },
  {
   "cell_type": "code",
   "execution_count": 11,
   "metadata": {},
   "outputs": [],
   "source": [
    "# Prueba de resultados tomando el archivo recien creado\n",
    "\n",
    "from ast import literal_eval\n",
    "new = pd.read_csv('datasets/ml_recomend.csv')\n",
    "new.recommendation = new.recommendation.apply(literal_eval)"
   ]
  },
  {
   "cell_type": "code",
   "execution_count": 14,
   "metadata": {},
   "outputs": [
    {
     "data": {
      "text/html": [
       "<div>\n",
       "<style scoped>\n",
       "    .dataframe tbody tr th:only-of-type {\n",
       "        vertical-align: middle;\n",
       "    }\n",
       "\n",
       "    .dataframe tbody tr th {\n",
       "        vertical-align: top;\n",
       "    }\n",
       "\n",
       "    .dataframe thead th {\n",
       "        text-align: right;\n",
       "    }\n",
       "</style>\n",
       "<table border=\"1\" class=\"dataframe\">\n",
       "  <thead>\n",
       "    <tr style=\"text-align: right;\">\n",
       "      <th></th>\n",
       "      <th>movie</th>\n",
       "      <th>recommendation</th>\n",
       "    </tr>\n",
       "  </thead>\n",
       "  <tbody>\n",
       "    <tr>\n",
       "      <th>0</th>\n",
       "      <td>Toy Story</td>\n",
       "      <td>[Toy Story 2, The Champ, The 40 Year Old Virgi...</td>\n",
       "    </tr>\n",
       "    <tr>\n",
       "      <th>1</th>\n",
       "      <td>Jumanji</td>\n",
       "      <td>[Word Wars, Brainscan, Nirvana, Dungeons &amp; Dra...</td>\n",
       "    </tr>\n",
       "    <tr>\n",
       "      <th>2</th>\n",
       "      <td>Grumpier Old Men</td>\n",
       "      <td>[Grumpy Old Men, An Extremely Goofy Movie, A G...</td>\n",
       "    </tr>\n",
       "    <tr>\n",
       "      <th>3</th>\n",
       "      <td>Waiting to Exhale</td>\n",
       "      <td>[Worth Winning, Next Stop Wonderland, The Fant...</td>\n",
       "    </tr>\n",
       "    <tr>\n",
       "      <th>4</th>\n",
       "      <td>Father of the Bride Part II</td>\n",
       "      <td>[Father of the Bride, Wendigo, Kuffs, North to...</td>\n",
       "    </tr>\n",
       "    <tr>\n",
       "      <th>...</th>\n",
       "      <td>...</td>\n",
       "      <td>...</td>\n",
       "    </tr>\n",
       "    <tr>\n",
       "      <th>14995</th>\n",
       "      <td>Johnny Angel</td>\n",
       "      <td>[Underworld, Radio Inside, The Man from Snowy ...</td>\n",
       "    </tr>\n",
       "    <tr>\n",
       "      <th>14996</th>\n",
       "      <td>The Dark Tower</td>\n",
       "      <td>[The Frightened City, Buried Alive, Red Road, ...</td>\n",
       "    </tr>\n",
       "    <tr>\n",
       "      <th>14997</th>\n",
       "      <td>Reindeerspotting - Escape From Santaland</td>\n",
       "      <td>[A Brief History of Time, The Living Room of t...</td>\n",
       "    </tr>\n",
       "    <tr>\n",
       "      <th>14998</th>\n",
       "      <td>Marmaduke</td>\n",
       "      <td>[Marley &amp; Me, Pinocchio, Cockles and Muscles, ...</td>\n",
       "    </tr>\n",
       "    <tr>\n",
       "      <th>14999</th>\n",
       "      <td>MacGruber</td>\n",
       "      <td>[Wake of Death, Direct Contact, Dead Fury, 300...</td>\n",
       "    </tr>\n",
       "  </tbody>\n",
       "</table>\n",
       "<p>15000 rows × 2 columns</p>\n",
       "</div>"
      ],
      "text/plain": [
       "                                          movie  \\\n",
       "0                                     Toy Story   \n",
       "1                                       Jumanji   \n",
       "2                              Grumpier Old Men   \n",
       "3                             Waiting to Exhale   \n",
       "4                   Father of the Bride Part II   \n",
       "...                                         ...   \n",
       "14995                              Johnny Angel   \n",
       "14996                            The Dark Tower   \n",
       "14997  Reindeerspotting - Escape From Santaland   \n",
       "14998                                 Marmaduke   \n",
       "14999                                 MacGruber   \n",
       "\n",
       "                                          recommendation  \n",
       "0      [Toy Story 2, The Champ, The 40 Year Old Virgi...  \n",
       "1      [Word Wars, Brainscan, Nirvana, Dungeons & Dra...  \n",
       "2      [Grumpy Old Men, An Extremely Goofy Movie, A G...  \n",
       "3      [Worth Winning, Next Stop Wonderland, The Fant...  \n",
       "4      [Father of the Bride, Wendigo, Kuffs, North to...  \n",
       "...                                                  ...  \n",
       "14995  [Underworld, Radio Inside, The Man from Snowy ...  \n",
       "14996  [The Frightened City, Buried Alive, Red Road, ...  \n",
       "14997  [A Brief History of Time, The Living Room of t...  \n",
       "14998  [Marley & Me, Pinocchio, Cockles and Muscles, ...  \n",
       "14999  [Wake of Death, Direct Contact, Dead Fury, 300...  \n",
       "\n",
       "[15000 rows x 2 columns]"
      ]
     },
     "execution_count": 14,
     "metadata": {},
     "output_type": "execute_result"
    }
   ],
   "source": [
    "new"
   ]
  },
  {
   "cell_type": "code",
   "execution_count": 30,
   "metadata": {},
   "outputs": [
    {
     "name": "stdout",
     "output_type": "stream",
     "text": [
      "['Hercules in New York', 'The League of Extraordinary Gentlemen', 'Puppet Master: The Legacy', 'The Wind and the Lion', 'Hellboy II: The Golden Army']\n",
      "['Dabbe', 'The Big Brawl', 'Our Song', 'Stray Cat Rock: Delinquent Girl Boss', 'The Crow IV: Wicked Prayer']\n",
      "Pelicula no encontrada\n",
      "False\n",
      "False\n",
      "['Griffin & Phoenix', 'Under the Bridges', 'Angel', 'Radio Inside', 'Swept Away']\n",
      "['The Life and Death of Colonel Blimp', 'How I Unleashed World War II Part III: Among Friends', 'Midway', 'The Beguiled', 'House of Fools']\n",
      "Pelicula no encontrada\n"
     ]
    }
   ],
   "source": [
    "# Test de prueba\n",
    "for m in ['Solomon Kane', 'Stray Cat Rock: Sex Hunter', 'American Drug War: The Last White Hope,', 'Camille',\n",
    "          'Peter Pan', 'One Way Passage', 'Arsenal', 'Carlos mi Amigo']:\n",
    "    resul = new[new['movie'] == m]\n",
    "    if len(resul) > 0:\n",
    "       print(resul['recommendation'].values[0])\n",
    "    else:\n",
    "       print('Pelicula no encontrada')\n",
    "    "
   ]
  },
  {
   "cell_type": "code",
   "execution_count": 26,
   "metadata": {},
   "outputs": [
    {
     "data": {
      "text/html": [
       "<div>\n",
       "<style scoped>\n",
       "    .dataframe tbody tr th:only-of-type {\n",
       "        vertical-align: middle;\n",
       "    }\n",
       "\n",
       "    .dataframe tbody tr th {\n",
       "        vertical-align: top;\n",
       "    }\n",
       "\n",
       "    .dataframe thead th {\n",
       "        text-align: right;\n",
       "    }\n",
       "</style>\n",
       "<table border=\"1\" class=\"dataframe\">\n",
       "  <thead>\n",
       "    <tr style=\"text-align: right;\">\n",
       "      <th></th>\n",
       "      <th>movie</th>\n",
       "      <th>recommendation</th>\n",
       "    </tr>\n",
       "  </thead>\n",
       "  <tbody>\n",
       "    <tr>\n",
       "      <th>14991</th>\n",
       "      <td>Solomon Kane</td>\n",
       "      <td>[Hercules in New York, The League of Extraordi...</td>\n",
       "    </tr>\n",
       "  </tbody>\n",
       "</table>\n",
       "</div>"
      ],
      "text/plain": [
       "              movie                                     recommendation\n",
       "14991  Solomon Kane  [Hercules in New York, The League of Extraordi..."
      ]
     },
     "execution_count": 26,
     "metadata": {},
     "output_type": "execute_result"
    }
   ],
   "source": [
    "resul = new[new['movie'] == 'Solomon Kane']\n",
    "resul"
   ]
  },
  {
   "cell_type": "code",
   "execution_count": 27,
   "metadata": {},
   "outputs": [
    {
     "data": {
      "text/plain": [
       "['Hercules in New York',\n",
       " 'The League of Extraordinary Gentlemen',\n",
       " 'Puppet Master: The Legacy',\n",
       " 'The Wind and the Lion',\n",
       " 'Hellboy II: The Golden Army']"
      ]
     },
     "execution_count": 27,
     "metadata": {},
     "output_type": "execute_result"
    }
   ],
   "source": [
    "resul['recommendation'].values[0]"
   ]
  },
  {
   "cell_type": "code",
   "execution_count": null,
   "metadata": {},
   "outputs": [],
   "source": []
  }
 ],
 "metadata": {
  "kernelspec": {
   "display_name": "fast-api",
   "language": "python",
   "name": "python3"
  },
  "language_info": {
   "codemirror_mode": {
    "name": "ipython",
    "version": 3
   },
   "file_extension": ".py",
   "mimetype": "text/x-python",
   "name": "python",
   "nbconvert_exporter": "python",
   "pygments_lexer": "ipython3",
   "version": "3.10.6"
  },
  "orig_nbformat": 4
 },
 "nbformat": 4,
 "nbformat_minor": 2
}
