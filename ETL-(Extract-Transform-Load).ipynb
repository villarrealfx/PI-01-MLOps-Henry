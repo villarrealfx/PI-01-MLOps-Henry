{
 "cells": [
  {
   "cell_type": "code",
   "execution_count": 1,
   "id": "57efe426",
   "metadata": {},
   "outputs": [],
   "source": [
    "lang = {\n",
    "            'aa' : 'afar',\n",
    "            'ab' : 'abjasio',  # (o abjasiano)\n",
    "            'ae' : 'avéstico',\n",
    "            'af' : 'afrikáans',\n",
    "            'ak' : 'akano',\n",
    "            'am' : 'amhárico',\n",
    "            'an' : 'aragonés',\n",
    "            'ar' : 'العربية',\n",
    "            'as' : 'asamés',\n",
    "            'av' : 'avar',  # (o ávaro)\n",
    "            'ay' : 'aimara',\n",
    "            'az' : 'azerí',\n",
    "            'ba' : 'baskir',\n",
    "            'be' : 'беларуская мова',\n",
    "            'bg' : 'български език',\n",
    "            'bh' : 'bhoyapurí',\n",
    "            'bi' : 'bislama',\n",
    "            'bm' : 'bamanankan',\n",
    "            'bn' : 'বাংলা',\n",
    "            'bo' : 'tibetano',\n",
    "            'br' : 'bretón',\n",
    "            'bs' : 'bosanski',\n",
    "            'ca' : 'català',\n",
    "            'ce' : 'checheno',\n",
    "            'ch' : 'chamorro',\n",
    "            'co' : 'corso',\n",
    "            'cr' : 'cree',\n",
    "            'cs' : 'český',\n",
    "            'cu' : 'eslavo',  # eclesiástico antiguo\n",
    "            'cv' : 'chuvasio',\n",
    "            'cy' : 'cymraeg',\n",
    "            'da' : 'dansk',\n",
    "            'de' : 'deutsch',\n",
    "            'dv' : 'maldivo',  # (o dhivehi)\n",
    "            'dz' : 'dzongkha',\n",
    "            'ee' : 'ewé',\n",
    "            'el' : 'ελληνικά',  # (moderno)\n",
    "            'en' : 'english',\n",
    "            'eo' : 'esperanto',\n",
    "            'es' : 'español',  # (o castellano)\n",
    "            'et' : 'eesti',\n",
    "            'eu' : 'euskera',\n",
    "            'fa' : 'فارسی',\n",
    "            'ff' : 'fula',\n",
    "            'fi' : 'suomi',  # (o finlandés)\n",
    "            'fj' : 'fiyiano',  # (o fiyi)\n",
    "            'fo' : 'feroés',\n",
    "            'fr' : 'français',\n",
    "            'fy' : 'frisón',  # (o frisio)\n",
    "            'ga' : 'gaeilge',  # (o gaélico)\n",
    "            'gd' : 'gaélico',  # escocés\n",
    "            'gl' : 'galego',\n",
    "            'gn' : 'guaraní',\n",
    "            'gu' : 'guyaratí',  # (o gujaratí)\n",
    "            'gv' : 'manés',  # (gaélico manés o de Isla de Man)\n",
    "            'ha' : 'hausa',\n",
    "            'he' : 'עִבְרִית',\n",
    "            'hi' : 'हिन्दी',  # (o hindú)\n",
    "            'ho' : 'hiri',  # motu\n",
    "            'hr' : 'hrvatski',\n",
    "            'ht' : 'haitiano',\n",
    "            'hu' : 'magyar',\n",
    "            'hy' : 'armenio',\n",
    "            'hz' : 'herero',\n",
    "            'ia' : 'interlingua',\n",
    "            'id' : 'bahasa indonesia',\n",
    "            'ie' : 'occidental',\n",
    "            'ig' : 'igbo',\n",
    "            'ii' : 'yi de Sichuán',\n",
    "            'ik' : 'iñupiaq',\n",
    "            'io' : 'ido',\n",
    "            'is' : 'íslenska',\n",
    "            'it' : 'italiano',\n",
    "            'iu' : 'inuktitut',  # (o inuit)\n",
    "            'ja' : '日本語',\n",
    "            'jv' : 'javanés',\n",
    "            'ka' : 'ქართული',\n",
    "            'kg' : 'kongo',  # (o kikongo)\n",
    "            'ki' : 'kikuyu',\n",
    "            'kj' : 'kuanyama',\n",
    "            'kk' : 'қазақ',  # (o kazajio)\n",
    "            'kl' : 'groenlandés',  # (o kalaallisut)\n",
    "            'km' : 'camboyano',  # o jemer)\n",
    "            'kn' : 'Kannada',\n",
    "            'ko' : '한국어/조선말',\n",
    "            'kr' : 'kanuri',\n",
    "            'ks' : 'cachemiro',  # (o cachemir)\n",
    "            'ku' : 'kurdo',\n",
    "            'kv' : 'komi',\n",
    "            'kw' : 'córnico',\n",
    "            'ky' : 'kirghiz',\n",
    "            'la' : 'latín',\n",
    "            'lb' : 'luxemburgués',\n",
    "            'lg' : 'luganda',\n",
    "            'li' : 'limburgués',\n",
    "            'ln' : 'lingala',\n",
    "            'lo' : 'lao',\n",
    "            'lt' : 'lietuvi\\x9akai',\n",
    "            'lu' : 'luba-katanga',  # (o chiluba)\n",
    "            'lv' : 'latviešu',\n",
    "            'mg' : 'malgache',  # (o malagasy)\n",
    "            'mh' : 'marshalés',\n",
    "            'mi' : 'maorí',\n",
    "            'mk' : 'macedonio',\n",
    "            'ml' : 'malayalam',\n",
    "            'mn' : 'mongol',\n",
    "            'mr' : 'maratí',\n",
    "            'ms' : 'bahasa melayu',\n",
    "            'mt' : 'malti',\n",
    "            'my' : 'birmano',\n",
    "            'na' : 'nauruano',\n",
    "            'nb' : 'bokmål',  # bokmål\n",
    "            'nd' : 'ndebele del norte',\n",
    "            'ne' : 'nepalí',\n",
    "            'ng' : 'ndonga',\n",
    "            'nl' : 'nederlands',  # (u holandés)\n",
    "            'nn' : 'nynorsk',\n",
    "            'no' : 'norsk',\n",
    "            'nr' : 'ndebele del sur',\n",
    "            'nv' : 'navajo',\n",
    "            'ny' : 'chichewa',\n",
    "            'oc' : 'occitano',\n",
    "            'oj' : 'ojibwa',\n",
    "            'om' : 'oromo',\n",
    "            'or' : 'oriya',\n",
    "            'os' : 'osético',  # (u osetio, u oseta)\n",
    "            'pa' : 'ਪੰਜਾਬੀ', # (o penyabi)\n",
    "            'pi' : 'pali',\n",
    "            'pl' : 'polski',\n",
    "            'ps' : 'پښتو',  # (o pastún, o pashto)\n",
    "            'pt' : 'português',\n",
    "            'qc' : 'quechua',\n",
    "            'rm' : 'romanche',\n",
    "            'rn' : 'kirundi',\n",
    "            'ro' : 'română',\n",
    "            'ru' : 'pусский',\n",
    "            'rw' : 'kinyarwanda',  # (o kiñaruanda)\n",
    "            'sa' : 'sánscrito',\n",
    "            'sc' : 'sardo',\n",
    "            'sd' : 'sindhi',\n",
    "            'se' : 'sami septentrional',\n",
    "            'sg' : 'sango',\n",
    "            'si' : 'cingalés',\n",
    "            'sk' : 'slovenčina',\n",
    "            'sl' : 'slovenščina',\n",
    "            'sm' : 'samoano',\n",
    "            'sn' : 'shona',\n",
    "            'so' : 'somalí',\n",
    "            'sq' : 'shqip',\n",
    "            'sr' : 'srpski',\n",
    "            'ss' : 'suazi',  # (o swati, o siSwati)\n",
    "            'st' : 'sesotho',\n",
    "            'su' : 'sundanés',  # (o sondanés)\n",
    "            'sv' : 'svenska',\n",
    "            'sw' : 'kiswahili',\n",
    "            'ta' : 'தமிழ்',\n",
    "            'te' : 'తెలుగు',\n",
    "            'tg' : 'tayiko',\n",
    "            'th' : 'ภาษาไทย',\n",
    "            'ti' : 'tigriña',\n",
    "            'tk' : 'turcomano',\n",
    "            'tl' : 'tagalo',\n",
    "            'tn' : 'setsuana',\n",
    "            'to' : 'tongano',\n",
    "            'tr' : 'türkçe',\n",
    "            'ts' : 'tsonga',\n",
    "            'tt' : 'tártaro',\n",
    "            'tw' : 'twi',\n",
    "            'ty' : 'tahitiano',\n",
    "            'ug' : 'uigur',\n",
    "            'uk' : 'український',\n",
    "            'ur' : 'اردو',\n",
    "            'uz' : 'ozbek',\n",
    "            've' : 'venda',\n",
    "            'vi' : 'tiếng việt',\n",
    "            'vo' : 'volapük',\n",
    "            'wa' : 'valón',\n",
    "            'wo' : 'wolof',\n",
    "            'xh' : 'xhosa',\n",
    "            'yi' : 'yídish',  # (o yidis, o yiddish)\n",
    "            'yo' : 'yoruba',\n",
    "            'za' : 'chuan',  # (o chuang, o zhuang)\n",
    "            'zh' : '普通话',\n",
    "            'zu' : 'isizulu',\n",
    "            'cn' : '广州话 / 廣州話',\n",
    "            'Sin Idioma': 'no language'\n",
    "            }"
   ]
  },
  {
   "cell_type": "markdown",
   "id": "9a368c09",
   "metadata": {},
   "source": [
    "# ETL (Extract, Transform, Load)"
   ]
  },
  {
   "cell_type": "code",
   "execution_count": 2,
   "id": "7ed53a19",
   "metadata": {},
   "outputs": [],
   "source": [
    "# Importar modulos necesarios\n",
    "import pandas as pd\n",
    "import numpy as np\n",
    "\n",
    "import matplotlib.pyplot as plt\n",
    "import seaborn as sns\n",
    "\n",
    "# Importar función 'literal_eval' desde módulo ast\n",
    "from ast import literal_eval"
   ]
  },
  {
   "cell_type": "markdown",
   "id": "ab9ed45d",
   "metadata": {},
   "source": [
    "## Funciones Personalizadas (custom functions)"
   ]
  },
  {
   "cell_type": "code",
   "execution_count": 3,
   "id": "f97270d4",
   "metadata": {},
   "outputs": [],
   "source": [
    "# Función para verificar si existen valores no deseados en campos numéricos\n",
    "def not_num(array, remp=0):\n",
    "    cart = []\n",
    "    for n in array:\n",
    "        try:\n",
    "            float(n)\n",
    "        except:\n",
    "            cart.append(n)\n",
    "    return cart\n",
    "\n",
    "def flatten_column(df, column, key = 'name'):\n",
    "    \n",
    "    # Convertir todos los valores faltantes en cadenas de listas vacías\n",
    "    df[column] = df[column].fillna('[]')\n",
    "\n",
    "    # Aplicar función literal_eval para convertir los objetos con datos tipo string en objectos tipo dict\n",
    "    df[column] = df[column].apply(literal_eval)\n",
    "    \n",
    "    for e in list(df[column]):\n",
    "        if len(e) > 0:\n",
    "            tipo = type(e)\n",
    "            break\n",
    "    if tipo == dict:\n",
    "        # Convertir las listas de diccionarios en listas de string\n",
    "        df[column] = df[column].apply(lambda x : x[key].lower() if isinstance(x, dict) else 'no collection')\n",
    "\n",
    "    elif tipo == list:\n",
    "        # Convertir las listas de diccionarios en listas de string\n",
    "        df[column] = df[column].apply(lambda x: [i[key].lower() for i in x] if isinstance(x, list) else '')\n",
    "\n",
    "    else:\n",
    "        print('Tipo de dato no soportado')\n",
    "            \n",
    "# Extraer Nombre del Director si no existe retorna nan\n",
    "def get_director(x):\n",
    "    for crew_member in x:\n",
    "        if crew_member['job'] == 'Director':\n",
    "            return crew_member['name']\n",
    "    return np.nan\n",
    "\n",
    "def inc_iso639(x):\n",
    "    if len(x)>2:\n",
    "        for k, v in lang.items():\n",
    "            if v == x.lower():\n",
    "                return k\n",
    "    else:\n",
    "        for k, v in lang.items():\n",
    "\n",
    "            if k == x.lower():\n",
    "                return v"
   ]
  },
  {
   "cell_type": "code",
   "execution_count": 4,
   "id": "61518d9d",
   "metadata": {
    "scrolled": true
   },
   "outputs": [
    {
     "name": "stderr",
     "output_type": "stream",
     "text": [
      "/tmp/ipykernel_11026/3097283174.py:2: DtypeWarning: Columns (10) have mixed types. Specify dtype option on import or set low_memory=False.\n",
      "  movies = pd.read_csv('datasets/movies_dataset.csv')\n"
     ]
    }
   ],
   "source": [
    "# Carga de datasets\n",
    "movies = pd.read_csv('datasets/movies_dataset.csv')\n",
    "credits = pd.read_csv('datasets/credits.csv')"
   ]
  },
  {
   "cell_type": "markdown",
   "id": "97c6afc7",
   "metadata": {},
   "source": [
    "## 1. Visualización Inicial"
   ]
  },
  {
   "cell_type": "code",
   "execution_count": 5,
   "id": "09c46e79",
   "metadata": {},
   "outputs": [
    {
     "name": "stdout",
     "output_type": "stream",
     "text": [
      "Forma de dataframe movies:  (45466, 24)\n",
      "Forma de dataframe credits:  (45476, 3)\n"
     ]
    }
   ],
   "source": [
    "print(\"Forma de dataframe movies: \",movies.shape)\n",
    "print(\"Forma de dataframe credits: \", credits.shape)"
   ]
  },
  {
   "cell_type": "code",
   "execution_count": 6,
   "id": "11d3dc35",
   "metadata": {},
   "outputs": [
    {
     "name": "stdout",
     "output_type": "stream",
     "text": [
      "<class 'pandas.core.frame.DataFrame'>\n",
      "RangeIndex: 45466 entries, 0 to 45465\n",
      "Data columns (total 24 columns):\n",
      " #   Column                 Non-Null Count  Dtype  \n",
      "---  ------                 --------------  -----  \n",
      " 0   adult                  45466 non-null  object \n",
      " 1   belongs_to_collection  4494 non-null   object \n",
      " 2   budget                 45466 non-null  object \n",
      " 3   genres                 45466 non-null  object \n",
      " 4   homepage               7782 non-null   object \n",
      " 5   id                     45466 non-null  object \n",
      " 6   imdb_id                45449 non-null  object \n",
      " 7   original_language      45455 non-null  object \n",
      " 8   original_title         45466 non-null  object \n",
      " 9   overview               44512 non-null  object \n",
      " 10  popularity             45461 non-null  object \n",
      " 11  poster_path            45080 non-null  object \n",
      " 12  production_companies   45463 non-null  object \n",
      " 13  production_countries   45463 non-null  object \n",
      " 14  release_date           45379 non-null  object \n",
      " 15  revenue                45460 non-null  float64\n",
      " 16  runtime                45203 non-null  float64\n",
      " 17  spoken_languages       45460 non-null  object \n",
      " 18  status                 45379 non-null  object \n",
      " 19  tagline                20412 non-null  object \n",
      " 20  title                  45460 non-null  object \n",
      " 21  video                  45460 non-null  object \n",
      " 22  vote_average           45460 non-null  float64\n",
      " 23  vote_count             45460 non-null  float64\n",
      "dtypes: float64(4), object(20)\n",
      "memory usage: 8.3+ MB\n"
     ]
    }
   ],
   "source": [
    "movies.info()"
   ]
  },
  {
   "cell_type": "code",
   "execution_count": 7,
   "id": "c757b3fc",
   "metadata": {},
   "outputs": [
    {
     "data": {
      "text/plain": [
       "adult                     0.000000\n",
       "belongs_to_collection    90.115691\n",
       "budget                    0.000000\n",
       "genres                    0.000000\n",
       "homepage                 82.883913\n",
       "id                        0.000000\n",
       "imdb_id                   0.037391\n",
       "original_language         0.024194\n",
       "original_title            0.000000\n",
       "overview                  2.098271\n",
       "popularity                0.010997\n",
       "poster_path               0.848986\n",
       "production_companies      0.006598\n",
       "production_countries      0.006598\n",
       "release_date              0.191352\n",
       "revenue                   0.013197\n",
       "runtime                   0.578454\n",
       "spoken_languages          0.013197\n",
       "status                    0.191352\n",
       "tagline                  55.104914\n",
       "title                     0.013197\n",
       "video                     0.013197\n",
       "vote_average              0.013197\n",
       "vote_count                0.013197\n",
       "dtype: float64"
      ]
     },
     "execution_count": 7,
     "metadata": {},
     "output_type": "execute_result"
    }
   ],
   "source": [
    "# Chequeando valores nulos por cada columna en porcentaje\n",
    "movies.isnull().sum()*100/movies.shape[0]"
   ]
  },
  {
   "cell_type": "code",
   "execution_count": 8,
   "id": "7c31d77a",
   "metadata": {},
   "outputs": [
    {
     "name": "stdout",
     "output_type": "stream",
     "text": [
      "<class 'pandas.core.frame.DataFrame'>\n",
      "RangeIndex: 45476 entries, 0 to 45475\n",
      "Data columns (total 3 columns):\n",
      " #   Column  Non-Null Count  Dtype \n",
      "---  ------  --------------  ----- \n",
      " 0   cast    45476 non-null  object\n",
      " 1   crew    45476 non-null  object\n",
      " 2   id      45476 non-null  int64 \n",
      "dtypes: int64(1), object(2)\n",
      "memory usage: 1.0+ MB\n"
     ]
    }
   ],
   "source": [
    "credits.info()"
   ]
  },
  {
   "cell_type": "code",
   "execution_count": 9,
   "id": "41c01696",
   "metadata": {},
   "outputs": [
    {
     "data": {
      "text/plain": [
       "cast    0.0\n",
       "crew    0.0\n",
       "id      0.0\n",
       "dtype: float64"
      ]
     },
     "execution_count": 9,
     "metadata": {},
     "output_type": "execute_result"
    }
   ],
   "source": [
    "# Chequeando valores nulos por cada columna en porcentaje\n",
    "credits.isnull().sum()*100/credits.shape[0]"
   ]
  },
  {
   "cell_type": "markdown",
   "id": "0d039982",
   "metadata": {},
   "source": [
    "### Observaciones Vizualización Inicial:"
   ]
  },
  {
   "cell_type": "markdown",
   "id": "97192220",
   "metadata": {},
   "source": [
    "* DataFrame: `movies`\n",
    "    * Cantidad de Filas: 45466\n",
    "    * Cantidad de Columnas: 24\n",
    "    * Tipos de datos: float64(4), object(20)\n",
    "    * Uso en memoria: 8.3+ MB\n",
    "    * Detalles a tomar en cuenta\n",
    "        * Columna `belongs_to_collection`presenta 40972 datos faltantes representa el 90.11%\n",
    "        * Columna `homepage`presenta 37684 datos faltantes representa el 82.88%\n",
    "        * Columna `tagline`presenta 25054 datos faltantes representa el 55.11%\n",
    "        * Las columnas `belongs_to_collection`, `genres`, `spoken_languages` son columnas con datos anidados.\n",
    "        * La columna `id` se presenta con tipo de dato object\n"
   ]
  },
  {
   "cell_type": "markdown",
   "id": "0a14220c",
   "metadata": {},
   "source": [
    "* DataFrame: `credits`\n",
    "    * Cantidad de Filas: 45476\n",
    "    * Cantidad de Columnas: 3\n",
    "    * Tipos de datos: int64(1), object(2)\n",
    "    * Uso en memoria: 1.0+ MB\n",
    "    * Detalles a tomar en cuenta\n",
    "        * No existen datos faltantes\n",
    "        * Las columnas `cast`, `crew` son columnas con datos anidados."
   ]
  },
  {
   "cell_type": "markdown",
   "id": "a2171402",
   "metadata": {},
   "source": [
    "## 2. Limpieza de Datos"
   ]
  },
  {
   "cell_type": "markdown",
   "id": "e1d91cf2",
   "metadata": {},
   "source": [
    "### 2.1 Eliminar filas duplicadas en df movies"
   ]
  },
  {
   "cell_type": "code",
   "execution_count": 10,
   "id": "929df3cd",
   "metadata": {},
   "outputs": [
    {
     "name": "stdout",
     "output_type": "stream",
     "text": [
      "Tamaño del set antes de eliminar las filas repetidas: (45466, 24)\n",
      "Tamaño del set después de eliminar las filas repetidas: (45453, 24)\n"
     ]
    }
   ],
   "source": [
    "print(f'Tamaño del set antes de eliminar las filas repetidas: {movies.shape}')\n",
    "movies.drop_duplicates(inplace=True)\n",
    "print(f'Tamaño del set después de eliminar las filas repetidas: {movies.shape}')"
   ]
  },
  {
   "cell_type": "markdown",
   "id": "511a042f",
   "metadata": {},
   "source": [
    "### 2.2 Eliminar filas duplicadas en df credits"
   ]
  },
  {
   "cell_type": "code",
   "execution_count": 11,
   "id": "f488305f",
   "metadata": {},
   "outputs": [
    {
     "name": "stdout",
     "output_type": "stream",
     "text": [
      "Tamaño del set antes de eliminar las filas repetidas: (45476, 3)\n",
      "Tamaño del set después de eliminar las filas repetidas: (45439, 3)\n"
     ]
    }
   ],
   "source": [
    "print(f'Tamaño del set antes de eliminar las filas repetidas: {credits.shape}')\n",
    "credits.drop_duplicates(inplace=True)\n",
    "print(f'Tamaño del set después de eliminar las filas repetidas: {credits.shape}')"
   ]
  },
  {
   "cell_type": "markdown",
   "id": "58a1eec6",
   "metadata": {},
   "source": [
    "### 2.3 Verificar valores no numéricos en columna `id`de df movies"
   ]
  },
  {
   "cell_type": "code",
   "execution_count": 12,
   "id": "11a4612e",
   "metadata": {},
   "outputs": [
    {
     "data": {
      "text/plain": [
       "['1997-08-20', '2012-09-29', '2014-01-01']"
      ]
     },
     "execution_count": 12,
     "metadata": {},
     "output_type": "execute_result"
    }
   ],
   "source": [
    "# Verificar valores no numéricos en columna \"id\"\n",
    "not_num(movies.id.values)"
   ]
  },
  {
   "cell_type": "markdown",
   "id": "c25a3eba",
   "metadata": {},
   "source": [
    "#### 2.3.1 Verificar registros con valores anómalos en la columna `id` y si sus datos pueden ser útiles o rescatables"
   ]
  },
  {
   "cell_type": "code",
   "execution_count": 13,
   "id": "4449d6dd",
   "metadata": {},
   "outputs": [
    {
     "data": {
      "text/html": [
       "<div>\n",
       "<style scoped>\n",
       "    .dataframe tbody tr th:only-of-type {\n",
       "        vertical-align: middle;\n",
       "    }\n",
       "\n",
       "    .dataframe tbody tr th {\n",
       "        vertical-align: top;\n",
       "    }\n",
       "\n",
       "    .dataframe thead th {\n",
       "        text-align: right;\n",
       "    }\n",
       "</style>\n",
       "<table border=\"1\" class=\"dataframe\">\n",
       "  <thead>\n",
       "    <tr style=\"text-align: right;\">\n",
       "      <th></th>\n",
       "      <th>adult</th>\n",
       "      <th>belongs_to_collection</th>\n",
       "      <th>budget</th>\n",
       "      <th>genres</th>\n",
       "      <th>homepage</th>\n",
       "      <th>id</th>\n",
       "      <th>imdb_id</th>\n",
       "      <th>original_language</th>\n",
       "      <th>original_title</th>\n",
       "      <th>overview</th>\n",
       "      <th>...</th>\n",
       "      <th>release_date</th>\n",
       "      <th>revenue</th>\n",
       "      <th>runtime</th>\n",
       "      <th>spoken_languages</th>\n",
       "      <th>status</th>\n",
       "      <th>tagline</th>\n",
       "      <th>title</th>\n",
       "      <th>video</th>\n",
       "      <th>vote_average</th>\n",
       "      <th>vote_count</th>\n",
       "    </tr>\n",
       "  </thead>\n",
       "  <tbody>\n",
       "    <tr>\n",
       "      <th>19730</th>\n",
       "      <td>- Written by Ørnås</td>\n",
       "      <td>0.065736</td>\n",
       "      <td>/ff9qCepilowshEtG2GYWwzt2bs4.jpg</td>\n",
       "      <td>[{'name': 'Carousel Productions', 'id': 11176}...</td>\n",
       "      <td>[{'iso_3166_1': 'CA', 'name': 'Canada'}, {'iso...</td>\n",
       "      <td>1997-08-20</td>\n",
       "      <td>0</td>\n",
       "      <td>104.0</td>\n",
       "      <td>[{'iso_639_1': 'en', 'name': 'English'}]</td>\n",
       "      <td>Released</td>\n",
       "      <td>...</td>\n",
       "      <td>1</td>\n",
       "      <td>NaN</td>\n",
       "      <td>NaN</td>\n",
       "      <td>NaN</td>\n",
       "      <td>NaN</td>\n",
       "      <td>NaN</td>\n",
       "      <td>NaN</td>\n",
       "      <td>NaN</td>\n",
       "      <td>NaN</td>\n",
       "      <td>NaN</td>\n",
       "    </tr>\n",
       "  </tbody>\n",
       "</table>\n",
       "<p>1 rows × 24 columns</p>\n",
       "</div>"
      ],
      "text/plain": [
       "                     adult belongs_to_collection  \\\n",
       "19730   - Written by Ørnås              0.065736   \n",
       "\n",
       "                                 budget  \\\n",
       "19730  /ff9qCepilowshEtG2GYWwzt2bs4.jpg   \n",
       "\n",
       "                                                  genres  \\\n",
       "19730  [{'name': 'Carousel Productions', 'id': 11176}...   \n",
       "\n",
       "                                                homepage          id imdb_id  \\\n",
       "19730  [{'iso_3166_1': 'CA', 'name': 'Canada'}, {'iso...  1997-08-20       0   \n",
       "\n",
       "      original_language                            original_title  overview  \\\n",
       "19730             104.0  [{'iso_639_1': 'en', 'name': 'English'}]  Released   \n",
       "\n",
       "       ... release_date revenue runtime spoken_languages status  tagline  \\\n",
       "19730  ...            1     NaN     NaN              NaN    NaN      NaN   \n",
       "\n",
       "       title video vote_average vote_count  \n",
       "19730    NaN   NaN          NaN        NaN  \n",
       "\n",
       "[1 rows x 24 columns]"
      ]
     },
     "execution_count": 13,
     "metadata": {},
     "output_type": "execute_result"
    }
   ],
   "source": [
    "movies[movies['id'] == '1997-08-20']"
   ]
  },
  {
   "cell_type": "code",
   "execution_count": 14,
   "id": "8e09741d",
   "metadata": {},
   "outputs": [
    {
     "data": {
      "text/html": [
       "<div>\n",
       "<style scoped>\n",
       "    .dataframe tbody tr th:only-of-type {\n",
       "        vertical-align: middle;\n",
       "    }\n",
       "\n",
       "    .dataframe tbody tr th {\n",
       "        vertical-align: top;\n",
       "    }\n",
       "\n",
       "    .dataframe thead th {\n",
       "        text-align: right;\n",
       "    }\n",
       "</style>\n",
       "<table border=\"1\" class=\"dataframe\">\n",
       "  <thead>\n",
       "    <tr style=\"text-align: right;\">\n",
       "      <th></th>\n",
       "      <th>adult</th>\n",
       "      <th>belongs_to_collection</th>\n",
       "      <th>budget</th>\n",
       "      <th>genres</th>\n",
       "      <th>homepage</th>\n",
       "      <th>id</th>\n",
       "      <th>imdb_id</th>\n",
       "      <th>original_language</th>\n",
       "      <th>original_title</th>\n",
       "      <th>overview</th>\n",
       "      <th>...</th>\n",
       "      <th>release_date</th>\n",
       "      <th>revenue</th>\n",
       "      <th>runtime</th>\n",
       "      <th>spoken_languages</th>\n",
       "      <th>status</th>\n",
       "      <th>tagline</th>\n",
       "      <th>title</th>\n",
       "      <th>video</th>\n",
       "      <th>vote_average</th>\n",
       "      <th>vote_count</th>\n",
       "    </tr>\n",
       "  </thead>\n",
       "  <tbody>\n",
       "    <tr>\n",
       "      <th>29503</th>\n",
       "      <td>Rune Balot goes to a casino connected to the ...</td>\n",
       "      <td>1.931659</td>\n",
       "      <td>/zV8bHuSL6WXoD6FWogP9j4x80bL.jpg</td>\n",
       "      <td>[{'name': 'Aniplex', 'id': 2883}, {'name': 'Go...</td>\n",
       "      <td>[{'iso_3166_1': 'US', 'name': 'United States o...</td>\n",
       "      <td>2012-09-29</td>\n",
       "      <td>0</td>\n",
       "      <td>68.0</td>\n",
       "      <td>[{'iso_639_1': 'ja', 'name': '日本語'}]</td>\n",
       "      <td>Released</td>\n",
       "      <td>...</td>\n",
       "      <td>12</td>\n",
       "      <td>NaN</td>\n",
       "      <td>NaN</td>\n",
       "      <td>NaN</td>\n",
       "      <td>NaN</td>\n",
       "      <td>NaN</td>\n",
       "      <td>NaN</td>\n",
       "      <td>NaN</td>\n",
       "      <td>NaN</td>\n",
       "      <td>NaN</td>\n",
       "    </tr>\n",
       "  </tbody>\n",
       "</table>\n",
       "<p>1 rows × 24 columns</p>\n",
       "</div>"
      ],
      "text/plain": [
       "                                                   adult  \\\n",
       "29503   Rune Balot goes to a casino connected to the ...   \n",
       "\n",
       "      belongs_to_collection                            budget  \\\n",
       "29503              1.931659  /zV8bHuSL6WXoD6FWogP9j4x80bL.jpg   \n",
       "\n",
       "                                                  genres  \\\n",
       "29503  [{'name': 'Aniplex', 'id': 2883}, {'name': 'Go...   \n",
       "\n",
       "                                                homepage          id imdb_id  \\\n",
       "29503  [{'iso_3166_1': 'US', 'name': 'United States o...  2012-09-29       0   \n",
       "\n",
       "      original_language                        original_title  overview  ...  \\\n",
       "29503              68.0  [{'iso_639_1': 'ja', 'name': '日本語'}]  Released  ...   \n",
       "\n",
       "      release_date revenue runtime spoken_languages status  tagline  title  \\\n",
       "29503           12     NaN     NaN              NaN    NaN      NaN    NaN   \n",
       "\n",
       "      video vote_average vote_count  \n",
       "29503   NaN          NaN        NaN  \n",
       "\n",
       "[1 rows x 24 columns]"
      ]
     },
     "execution_count": 14,
     "metadata": {},
     "output_type": "execute_result"
    }
   ],
   "source": [
    "movies[movies['id'] == '2012-09-29']"
   ]
  },
  {
   "cell_type": "code",
   "execution_count": 15,
   "id": "020a0792",
   "metadata": {},
   "outputs": [
    {
     "data": {
      "text/html": [
       "<div>\n",
       "<style scoped>\n",
       "    .dataframe tbody tr th:only-of-type {\n",
       "        vertical-align: middle;\n",
       "    }\n",
       "\n",
       "    .dataframe tbody tr th {\n",
       "        vertical-align: top;\n",
       "    }\n",
       "\n",
       "    .dataframe thead th {\n",
       "        text-align: right;\n",
       "    }\n",
       "</style>\n",
       "<table border=\"1\" class=\"dataframe\">\n",
       "  <thead>\n",
       "    <tr style=\"text-align: right;\">\n",
       "      <th></th>\n",
       "      <th>adult</th>\n",
       "      <th>belongs_to_collection</th>\n",
       "      <th>budget</th>\n",
       "      <th>genres</th>\n",
       "      <th>homepage</th>\n",
       "      <th>id</th>\n",
       "      <th>imdb_id</th>\n",
       "      <th>original_language</th>\n",
       "      <th>original_title</th>\n",
       "      <th>overview</th>\n",
       "      <th>...</th>\n",
       "      <th>release_date</th>\n",
       "      <th>revenue</th>\n",
       "      <th>runtime</th>\n",
       "      <th>spoken_languages</th>\n",
       "      <th>status</th>\n",
       "      <th>tagline</th>\n",
       "      <th>title</th>\n",
       "      <th>video</th>\n",
       "      <th>vote_average</th>\n",
       "      <th>vote_count</th>\n",
       "    </tr>\n",
       "  </thead>\n",
       "  <tbody>\n",
       "    <tr>\n",
       "      <th>35587</th>\n",
       "      <td>Avalanche Sharks tells the story of a bikini ...</td>\n",
       "      <td>2.185485</td>\n",
       "      <td>/zaSf5OG7V8X8gqFvly88zDdRm46.jpg</td>\n",
       "      <td>[{'name': 'Odyssey Media', 'id': 17161}, {'nam...</td>\n",
       "      <td>[{'iso_3166_1': 'CA', 'name': 'Canada'}]</td>\n",
       "      <td>2014-01-01</td>\n",
       "      <td>0</td>\n",
       "      <td>82.0</td>\n",
       "      <td>[{'iso_639_1': 'en', 'name': 'English'}]</td>\n",
       "      <td>Released</td>\n",
       "      <td>...</td>\n",
       "      <td>22</td>\n",
       "      <td>NaN</td>\n",
       "      <td>NaN</td>\n",
       "      <td>NaN</td>\n",
       "      <td>NaN</td>\n",
       "      <td>NaN</td>\n",
       "      <td>NaN</td>\n",
       "      <td>NaN</td>\n",
       "      <td>NaN</td>\n",
       "      <td>NaN</td>\n",
       "    </tr>\n",
       "  </tbody>\n",
       "</table>\n",
       "<p>1 rows × 24 columns</p>\n",
       "</div>"
      ],
      "text/plain": [
       "                                                   adult  \\\n",
       "35587   Avalanche Sharks tells the story of a bikini ...   \n",
       "\n",
       "      belongs_to_collection                            budget  \\\n",
       "35587              2.185485  /zaSf5OG7V8X8gqFvly88zDdRm46.jpg   \n",
       "\n",
       "                                                  genres  \\\n",
       "35587  [{'name': 'Odyssey Media', 'id': 17161}, {'nam...   \n",
       "\n",
       "                                       homepage          id imdb_id  \\\n",
       "35587  [{'iso_3166_1': 'CA', 'name': 'Canada'}]  2014-01-01       0   \n",
       "\n",
       "      original_language                            original_title  overview  \\\n",
       "35587              82.0  [{'iso_639_1': 'en', 'name': 'English'}]  Released   \n",
       "\n",
       "       ... release_date revenue runtime spoken_languages status  tagline  \\\n",
       "35587  ...           22     NaN     NaN              NaN    NaN      NaN   \n",
       "\n",
       "       title video vote_average vote_count  \n",
       "35587    NaN   NaN          NaN        NaN  \n",
       "\n",
       "[1 rows x 24 columns]"
      ]
     },
     "execution_count": 15,
     "metadata": {},
     "output_type": "execute_result"
    }
   ],
   "source": [
    "movies[movies['id'] == '2014-01-01']"
   ]
  },
  {
   "cell_type": "markdown",
   "id": "4100c66b",
   "metadata": {},
   "source": [
    "#### 2.3.2 Eliminar columnas con valores anómalos en la columna `id` ya que no pueden ser rescatables"
   ]
  },
  {
   "cell_type": "code",
   "execution_count": 16,
   "id": "7f5ba4c0",
   "metadata": {},
   "outputs": [
    {
     "data": {
      "text/plain": [
       "[]"
      ]
     },
     "execution_count": 16,
     "metadata": {},
     "output_type": "execute_result"
    }
   ],
   "source": [
    "# Eliminar filas con valores anómalos en la columna \"id\"\n",
    "for val in not_num(movies.id.values):\n",
    "    movies.drop(movies[(movies['id'] == val)].index, inplace=True)\n",
    "\n",
    "not_num(movies.id.values)"
   ]
  },
  {
   "cell_type": "markdown",
   "id": "34c9432d",
   "metadata": {},
   "source": [
    "#### 2.3.3 Cambiar tipo de datos de columna `id`"
   ]
  },
  {
   "cell_type": "code",
   "execution_count": 17,
   "id": "fa56ac19",
   "metadata": {},
   "outputs": [
    {
     "name": "stdout",
     "output_type": "stream",
     "text": [
      "El tipo original de datos de la columna \"id\": object\n",
      "El nuevo tipo de datos de la columna \"id\": int64\n"
     ]
    }
   ],
   "source": [
    "# verificar y remplazar tipo de dato de columna \"id\"\n",
    "id_dto = movies.dtypes['id']\n",
    "print(f'El tipo original de datos de la columna \"id\": {id_dto}')\n",
    "\n",
    "# Cambiar el tipo de datos de la columna 'id' de \"object\" a \"int64\"\n",
    "movies['id'] = movies['id'].astype('int64')\n",
    "id_dtn = movies.dtypes['id']\n",
    "print(f'El nuevo tipo de datos de la columna \"id\": {id_dtn}')"
   ]
  },
  {
   "cell_type": "markdown",
   "id": "7c85bff5",
   "metadata": {},
   "source": [
    "### 2.4 Verificar valores no numéricos en columna `budget`de df movies"
   ]
  },
  {
   "cell_type": "code",
   "execution_count": 18,
   "id": "79545e2c",
   "metadata": {},
   "outputs": [
    {
     "data": {
      "text/plain": [
       "[]"
      ]
     },
     "execution_count": 18,
     "metadata": {},
     "output_type": "execute_result"
    }
   ],
   "source": [
    "# Verificar valores no numéricos en columna \"budget\"\n",
    "not_num(movies.budget.values)"
   ]
  },
  {
   "cell_type": "markdown",
   "id": "8cc33b0d",
   "metadata": {},
   "source": [
    "#### 2.4.1 Cambiar tipo de datos de columna `budget`"
   ]
  },
  {
   "cell_type": "code",
   "execution_count": 19,
   "id": "80f4e11a",
   "metadata": {},
   "outputs": [
    {
     "name": "stdout",
     "output_type": "stream",
     "text": [
      "El tipo original de datos de la columna \"budget\": object\n",
      "El nuevo tipo de datos de la columna \"budget\": float64\n"
     ]
    }
   ],
   "source": [
    "# verificar y remplazar tipo de dato de columna budget\n",
    "budget_dto = movies.dtypes['budget']\n",
    "print(f'El tipo original de datos de la columna \"budget\": {budget_dto}')\n",
    "\n",
    "# Cambiar el tipo de datos de la columna 'budget' de \"object\" a \"float64\"\n",
    "movies['budget'] = movies['budget'].astype('float64')\n",
    "budget_dtn = movies.dtypes['budget']\n",
    "print(f'El nuevo tipo de datos de la columna \"budget\": {budget_dtn}')"
   ]
  },
  {
   "cell_type": "markdown",
   "id": "ffd4d04c",
   "metadata": {},
   "source": [
    "### 2.5 Eliminar columnas según requisitos del problema"
   ]
  },
  {
   "cell_type": "markdown",
   "id": "87ebe636",
   "metadata": {},
   "source": [
    "#### 2.5.1 Eliminar columnas `video`, `imdb_id`, `adult`, `original_title`, `poster_path`, `homepage`"
   ]
  },
  {
   "cell_type": "code",
   "execution_count": 20,
   "id": "7a5dd069",
   "metadata": {},
   "outputs": [],
   "source": [
    "# Eliminar columnas por requisito del problema\n",
    "movies.drop(['video', 'imdb_id', 'adult', 'original_title', 'poster_path', 'homepage'], axis=1, inplace=True)"
   ]
  },
  {
   "cell_type": "markdown",
   "id": "835c045d",
   "metadata": {},
   "source": [
    "### 2.6 Verificar registros con `id` duplicados"
   ]
  },
  {
   "cell_type": "markdown",
   "id": "7d49977c",
   "metadata": {},
   "source": [
    "#### 2.6.1 Verificar si existe registros con `id` duplicados y borrarlos df movies"
   ]
  },
  {
   "cell_type": "code",
   "execution_count": 21,
   "id": "bd7179ae",
   "metadata": {
    "scrolled": true
   },
   "outputs": [
    {
     "name": "stdout",
     "output_type": "stream",
     "text": [
      "Existen 17 duplicados\n"
     ]
    }
   ],
   "source": [
    "# Verificar si existe registros con \"id\" duplicados\n",
    "print(f\"Existen {movies[movies.duplicated('id')].shape[0]} duplicados\")"
   ]
  },
  {
   "cell_type": "markdown",
   "id": "3027f016",
   "metadata": {},
   "source": [
    "#### 2.6.2 Eliminar registros con `id` duplicados de df movies"
   ]
  },
  {
   "cell_type": "code",
   "execution_count": 22,
   "id": "82a62e8e",
   "metadata": {},
   "outputs": [],
   "source": [
    "# Eliminar registros con \"id\" duplicado df movies\n",
    "movies = movies.drop_duplicates(movies.columns[movies.columns.isin(['id'])],\n",
    "                        keep='first')"
   ]
  },
  {
   "cell_type": "markdown",
   "id": "6991db13",
   "metadata": {},
   "source": [
    "#### 2.6.3 Verificar si existe registros con `id` duplicados y borrarlos df credits"
   ]
  },
  {
   "cell_type": "code",
   "execution_count": 23,
   "id": "f267a8a8",
   "metadata": {},
   "outputs": [
    {
     "name": "stdout",
     "output_type": "stream",
     "text": [
      "Existen 7 duplicados\n"
     ]
    }
   ],
   "source": [
    "# Verificar si existe registros con \"id\" duplicados\n",
    "print(f\"Existen {credits[credits.duplicated('id')].shape[0]} duplicados\")"
   ]
  },
  {
   "cell_type": "markdown",
   "id": "9fc93662",
   "metadata": {},
   "source": [
    "#### 2.6.4 Verificar si existe registros con `id` duplicados y borrarlos df credits"
   ]
  },
  {
   "cell_type": "code",
   "execution_count": 24,
   "id": "a820eb79",
   "metadata": {},
   "outputs": [],
   "source": [
    "# Eliminar registros con \"id\" duplicado df credits\n",
    "credits = credits.drop_duplicates(credits.columns[credits.columns.isin(['id'])],\n",
    "                        keep='first')"
   ]
  },
  {
   "cell_type": "markdown",
   "id": "7b1cf8d6",
   "metadata": {},
   "source": [
    "### 2.7 Realizar Merge de dfs `movies` y `credits` con `how = \"left\"` y `on = \"id\"`"
   ]
  },
  {
   "cell_type": "code",
   "execution_count": 25,
   "id": "bf505b59",
   "metadata": {},
   "outputs": [
    {
     "data": {
      "text/plain": [
       "((45433, 18), (45432, 3))"
      ]
     },
     "execution_count": 25,
     "metadata": {},
     "output_type": "execute_result"
    }
   ],
   "source": [
    "# Verificar forma de los dataframes\n",
    "movies.shape, credits.shape"
   ]
  },
  {
   "cell_type": "code",
   "execution_count": 26,
   "id": "62f10127",
   "metadata": {},
   "outputs": [],
   "source": [
    "df = pd.merge(movies, credits, how='left', on='id')"
   ]
  },
  {
   "cell_type": "code",
   "execution_count": 27,
   "id": "273e2eb9",
   "metadata": {},
   "outputs": [
    {
     "data": {
      "text/plain": [
       "(45433, 20)"
      ]
     },
     "execution_count": 27,
     "metadata": {},
     "output_type": "execute_result"
    }
   ],
   "source": [
    "df.shape"
   ]
  },
  {
   "cell_type": "markdown",
   "id": "1edc92be",
   "metadata": {},
   "source": [
    "### 2.8 Aplanar Columnas anidadas"
   ]
  },
  {
   "cell_type": "markdown",
   "id": "3c4fd32b",
   "metadata": {},
   "source": [
    "#### 2.8.1 Aplanar columnas `belongs_to_collection`, `genres`, `production_companies`, `production_countries` y `spoken_languages`"
   ]
  },
  {
   "cell_type": "code",
   "execution_count": 28,
   "id": "9677c395",
   "metadata": {},
   "outputs": [],
   "source": [
    "columns_to_flatten = [(df, 'belongs_to_collection') , (df, 'genres'), (df, 'production_companies'), (df, 'production_countries'), (df, 'spoken_languages')]"
   ]
  },
  {
   "cell_type": "code",
   "execution_count": 29,
   "id": "0c9b2777",
   "metadata": {},
   "outputs": [],
   "source": [
    "for tup in columns_to_flatten:\n",
    "    flatten_column(tup[0], tup[1])"
   ]
  },
  {
   "cell_type": "markdown",
   "id": "49b88a7e",
   "metadata": {},
   "source": [
    "#### 2.8.2 Aplanar columna `crew`"
   ]
  },
  {
   "cell_type": "code",
   "execution_count": 30,
   "id": "2c211319",
   "metadata": {},
   "outputs": [
    {
     "data": {
      "text/plain": [
       "{'credit_id': '52fe4284c3a36847f8024f49',\n",
       " 'department': 'Directing',\n",
       " 'gender': 2,\n",
       " 'id': 7879,\n",
       " 'job': 'Director',\n",
       " 'name': 'John Lasseter',\n",
       " 'profile_path': '/7EdqiNbr4FRjIhKHyPPdFfEEEFG.jpg'}"
      ]
     },
     "execution_count": 30,
     "metadata": {},
     "output_type": "execute_result"
    }
   ],
   "source": [
    "# Convertir todos los valores faltantes en cadenas de listas vacías\n",
    "df['crew'] = df['crew'].fillna('[]')\n",
    "df['crew'] = df['crew'].apply(literal_eval)\n",
    "df.iloc[0]['crew'][0]"
   ]
  },
  {
   "cell_type": "markdown",
   "id": "7d36214e",
   "metadata": {},
   "source": [
    "##### 2.8.2.1 Crear columna `director` con los nombres de las personas que ocupan ese trabajo en la columna crew"
   ]
  },
  {
   "cell_type": "code",
   "execution_count": 31,
   "id": "8423c048",
   "metadata": {},
   "outputs": [],
   "source": [
    "df['director'] = df['crew'].apply(get_director)"
   ]
  },
  {
   "cell_type": "code",
   "execution_count": 32,
   "id": "97a69ecd",
   "metadata": {
    "scrolled": true
   },
   "outputs": [
    {
     "data": {
      "text/plain": [
       "0      John Lasseter\n",
       "1       Joe Johnston\n",
       "2      Howard Deutch\n",
       "3    Forest Whitaker\n",
       "4      Charles Shyer\n",
       "Name: director, dtype: object"
      ]
     },
     "execution_count": 32,
     "metadata": {},
     "output_type": "execute_result"
    }
   ],
   "source": [
    "df['director'].head()"
   ]
  },
  {
   "cell_type": "markdown",
   "id": "2e0c9cc9",
   "metadata": {},
   "source": [
    "#### 2.8.3 Aplanar columna `cast`"
   ]
  },
  {
   "cell_type": "code",
   "execution_count": 33,
   "id": "955d95e8",
   "metadata": {},
   "outputs": [],
   "source": [
    "flatten_column(df, 'cast')"
   ]
  },
  {
   "cell_type": "code",
   "execution_count": 34,
   "id": "491ff420",
   "metadata": {},
   "outputs": [
    {
     "data": {
      "text/plain": [
       "['tom hanks',\n",
       " 'tim allen',\n",
       " 'don rickles',\n",
       " 'jim varney',\n",
       " 'wallace shawn',\n",
       " 'john ratzenberger',\n",
       " 'annie potts',\n",
       " 'john morris',\n",
       " 'erik von detten',\n",
       " 'laurie metcalf',\n",
       " 'r. lee ermey',\n",
       " 'sarah freeman',\n",
       " 'penn jillette']"
      ]
     },
     "execution_count": 34,
     "metadata": {},
     "output_type": "execute_result"
    }
   ],
   "source": [
    "df['cast'][0]"
   ]
  },
  {
   "cell_type": "markdown",
   "id": "6e2b8692",
   "metadata": {},
   "source": [
    "#### 2.8.4 Eliminar columna `crew`"
   ]
  },
  {
   "cell_type": "code",
   "execution_count": 35,
   "id": "b9cb00d6",
   "metadata": {},
   "outputs": [],
   "source": [
    "df.drop('crew', axis=1, inplace=True)"
   ]
  },
  {
   "cell_type": "markdown",
   "id": "07166772",
   "metadata": {},
   "source": [
    "### 2.9 Imputar valores faltes columna `original_language`"
   ]
  },
  {
   "cell_type": "code",
   "execution_count": 36,
   "id": "e81cbfff",
   "metadata": {},
   "outputs": [
    {
     "data": {
      "text/html": [
       "<div>\n",
       "<style scoped>\n",
       "    .dataframe tbody tr th:only-of-type {\n",
       "        vertical-align: middle;\n",
       "    }\n",
       "\n",
       "    .dataframe tbody tr th {\n",
       "        vertical-align: top;\n",
       "    }\n",
       "\n",
       "    .dataframe thead th {\n",
       "        text-align: right;\n",
       "    }\n",
       "</style>\n",
       "<table border=\"1\" class=\"dataframe\">\n",
       "  <thead>\n",
       "    <tr style=\"text-align: right;\">\n",
       "      <th></th>\n",
       "      <th>title</th>\n",
       "      <th>original_language</th>\n",
       "    </tr>\n",
       "  </thead>\n",
       "  <tbody>\n",
       "    <tr>\n",
       "      <th>0</th>\n",
       "      <td>Toy Story</td>\n",
       "      <td>en</td>\n",
       "    </tr>\n",
       "    <tr>\n",
       "      <th>1</th>\n",
       "      <td>Jumanji</td>\n",
       "      <td>en</td>\n",
       "    </tr>\n",
       "    <tr>\n",
       "      <th>2</th>\n",
       "      <td>Grumpier Old Men</td>\n",
       "      <td>en</td>\n",
       "    </tr>\n",
       "    <tr>\n",
       "      <th>3</th>\n",
       "      <td>Waiting to Exhale</td>\n",
       "      <td>en</td>\n",
       "    </tr>\n",
       "    <tr>\n",
       "      <th>4</th>\n",
       "      <td>Father of the Bride Part II</td>\n",
       "      <td>en</td>\n",
       "    </tr>\n",
       "    <tr>\n",
       "      <th>...</th>\n",
       "      <td>...</td>\n",
       "      <td>...</td>\n",
       "    </tr>\n",
       "    <tr>\n",
       "      <th>45428</th>\n",
       "      <td>Subdue</td>\n",
       "      <td>fa</td>\n",
       "    </tr>\n",
       "    <tr>\n",
       "      <th>45429</th>\n",
       "      <td>Century of Birthing</td>\n",
       "      <td>tl</td>\n",
       "    </tr>\n",
       "    <tr>\n",
       "      <th>45430</th>\n",
       "      <td>Betrayal</td>\n",
       "      <td>en</td>\n",
       "    </tr>\n",
       "    <tr>\n",
       "      <th>45431</th>\n",
       "      <td>Satan Triumphant</td>\n",
       "      <td>en</td>\n",
       "    </tr>\n",
       "    <tr>\n",
       "      <th>45432</th>\n",
       "      <td>Queerama</td>\n",
       "      <td>en</td>\n",
       "    </tr>\n",
       "  </tbody>\n",
       "</table>\n",
       "<p>45433 rows × 2 columns</p>\n",
       "</div>"
      ],
      "text/plain": [
       "                             title original_language\n",
       "0                        Toy Story                en\n",
       "1                          Jumanji                en\n",
       "2                 Grumpier Old Men                en\n",
       "3                Waiting to Exhale                en\n",
       "4      Father of the Bride Part II                en\n",
       "...                            ...               ...\n",
       "45428                       Subdue                fa\n",
       "45429          Century of Birthing                tl\n",
       "45430                     Betrayal                en\n",
       "45431             Satan Triumphant                en\n",
       "45432                     Queerama                en\n",
       "\n",
       "[45433 rows x 2 columns]"
      ]
     },
     "execution_count": 36,
     "metadata": {},
     "output_type": "execute_result"
    }
   ],
   "source": [
    "df[['title', 'original_language']]"
   ]
  },
  {
   "cell_type": "markdown",
   "id": "5ac3b199",
   "metadata": {},
   "source": [
    "#### 2.9.1 Imputar los valores faltantes del campo `original_language` con el valor iso639 del primer lenguaje encontrado en la columna `spoken_languages`"
   ]
  },
  {
   "cell_type": "code",
   "execution_count": 37,
   "id": "36bdc8f2",
   "metadata": {},
   "outputs": [],
   "source": [
    "# crear columna con el cod iso-639 primer lenguaje encontrado en la lista de la columna \"spoken_languages\" (usando función inc_iso639)\n",
    "df['first_lang'] = df['spoken_languages'].apply(lambda x: inc_iso639(x[0]) if len(x) > 0 else '')"
   ]
  },
  {
   "cell_type": "code",
   "execution_count": 38,
   "id": "1087f3f4",
   "metadata": {
    "scrolled": true
   },
   "outputs": [
    {
     "data": {
      "text/html": [
       "<div>\n",
       "<style scoped>\n",
       "    .dataframe tbody tr th:only-of-type {\n",
       "        vertical-align: middle;\n",
       "    }\n",
       "\n",
       "    .dataframe tbody tr th {\n",
       "        vertical-align: top;\n",
       "    }\n",
       "\n",
       "    .dataframe thead th {\n",
       "        text-align: right;\n",
       "    }\n",
       "</style>\n",
       "<table border=\"1\" class=\"dataframe\">\n",
       "  <thead>\n",
       "    <tr style=\"text-align: right;\">\n",
       "      <th></th>\n",
       "      <th>belongs_to_collection</th>\n",
       "      <th>budget</th>\n",
       "      <th>genres</th>\n",
       "      <th>id</th>\n",
       "      <th>original_language</th>\n",
       "      <th>overview</th>\n",
       "      <th>popularity</th>\n",
       "      <th>production_companies</th>\n",
       "      <th>production_countries</th>\n",
       "      <th>release_date</th>\n",
       "      <th>...</th>\n",
       "      <th>runtime</th>\n",
       "      <th>spoken_languages</th>\n",
       "      <th>status</th>\n",
       "      <th>tagline</th>\n",
       "      <th>title</th>\n",
       "      <th>vote_average</th>\n",
       "      <th>vote_count</th>\n",
       "      <th>cast</th>\n",
       "      <th>director</th>\n",
       "      <th>first_lang</th>\n",
       "    </tr>\n",
       "  </thead>\n",
       "  <tbody>\n",
       "    <tr>\n",
       "      <th>19566</th>\n",
       "      <td>no collection</td>\n",
       "      <td>0.0</td>\n",
       "      <td>[documentary]</td>\n",
       "      <td>283101</td>\n",
       "      <td>NaN</td>\n",
       "      <td>Documentary about the production of The Third ...</td>\n",
       "      <td>0.017007</td>\n",
       "      <td>[studiocanal, british broadcasting corporation...</td>\n",
       "      <td>[austria, france, japan, united kingdom, unite...</td>\n",
       "      <td>2004-10-11</td>\n",
       "      <td>...</td>\n",
       "      <td>95.0</td>\n",
       "      <td>[deutsch, english]</td>\n",
       "      <td>Released</td>\n",
       "      <td>NaN</td>\n",
       "      <td>Shadowing the Third Man</td>\n",
       "      <td>0.0</td>\n",
       "      <td>0.0</td>\n",
       "      <td>[john hurt, guy hamilton, angela allen, daniel...</td>\n",
       "      <td>Frederick Baker</td>\n",
       "      <td>de</td>\n",
       "    </tr>\n",
       "    <tr>\n",
       "      <th>21589</th>\n",
       "      <td>no collection</td>\n",
       "      <td>0.0</td>\n",
       "      <td>[romance, drama]</td>\n",
       "      <td>103902</td>\n",
       "      <td>NaN</td>\n",
       "      <td>An Outback farmer takes in an Afghani woman wh...</td>\n",
       "      <td>0.359818</td>\n",
       "      <td>[new holland pictures, idtv film]</td>\n",
       "      <td>[australia]</td>\n",
       "      <td>2007-08-04</td>\n",
       "      <td>...</td>\n",
       "      <td>94.0</td>\n",
       "      <td>[english]</td>\n",
       "      <td>Released</td>\n",
       "      <td>NaN</td>\n",
       "      <td>Unfinished Sky</td>\n",
       "      <td>6.4</td>\n",
       "      <td>8.0</td>\n",
       "      <td>[william mcinnes, monic hendrickx, bille brown...</td>\n",
       "      <td>Peter Duncan</td>\n",
       "      <td>en</td>\n",
       "    </tr>\n",
       "    <tr>\n",
       "      <th>22817</th>\n",
       "      <td>no collection</td>\n",
       "      <td>0.0</td>\n",
       "      <td>[war, western]</td>\n",
       "      <td>359195</td>\n",
       "      <td>NaN</td>\n",
       "      <td>A group of Union Army soldiers is charged with...</td>\n",
       "      <td>0.070647</td>\n",
       "      <td>[associated producers (api)]</td>\n",
       "      <td>[united states of america]</td>\n",
       "      <td>1960-03-31</td>\n",
       "      <td>...</td>\n",
       "      <td>69.0</td>\n",
       "      <td>[english]</td>\n",
       "      <td>Released</td>\n",
       "      <td>NaN</td>\n",
       "      <td>13 Fighting Men</td>\n",
       "      <td>0.0</td>\n",
       "      <td>0.0</td>\n",
       "      <td>[grant williams, brad dexter, carole mathews, ...</td>\n",
       "      <td>Harry W. Gerstad</td>\n",
       "      <td>en</td>\n",
       "    </tr>\n",
       "    <tr>\n",
       "      <th>32118</th>\n",
       "      <td>no collection</td>\n",
       "      <td>0.0</td>\n",
       "      <td>[comedy]</td>\n",
       "      <td>147050</td>\n",
       "      <td>NaN</td>\n",
       "      <td>George and Gracie enter an elegant drawing roo...</td>\n",
       "      <td>0.073418</td>\n",
       "      <td>[warner bros., the vitaphone corporation]</td>\n",
       "      <td>[united states of america]</td>\n",
       "      <td>1929-10-31</td>\n",
       "      <td>...</td>\n",
       "      <td>8.0</td>\n",
       "      <td>[english]</td>\n",
       "      <td>Released</td>\n",
       "      <td>NaN</td>\n",
       "      <td>Lambchops</td>\n",
       "      <td>6.5</td>\n",
       "      <td>2.0</td>\n",
       "      <td>[george burns, gracie allen]</td>\n",
       "      <td>Murray Roth</td>\n",
       "      <td>en</td>\n",
       "    </tr>\n",
       "    <tr>\n",
       "      <th>37380</th>\n",
       "      <td>no collection</td>\n",
       "      <td>0.0</td>\n",
       "      <td>[animation]</td>\n",
       "      <td>257095</td>\n",
       "      <td>NaN</td>\n",
       "      <td>The first fairy tale transformed into a full-l...</td>\n",
       "      <td>0.036841</td>\n",
       "      <td>[ceskoslovenský státní film]</td>\n",
       "      <td>[czech republic]</td>\n",
       "      <td>1950-01-26</td>\n",
       "      <td>...</td>\n",
       "      <td>87.0</td>\n",
       "      <td>[český]</td>\n",
       "      <td>Released</td>\n",
       "      <td>NaN</td>\n",
       "      <td>Prince Bayaya</td>\n",
       "      <td>5.0</td>\n",
       "      <td>1.0</td>\n",
       "      <td>[]</td>\n",
       "      <td>Jiří Trnka</td>\n",
       "      <td>cs</td>\n",
       "    </tr>\n",
       "    <tr>\n",
       "      <th>41017</th>\n",
       "      <td>no collection</td>\n",
       "      <td>0.0</td>\n",
       "      <td>[documentary]</td>\n",
       "      <td>332742</td>\n",
       "      <td>NaN</td>\n",
       "      <td>Until the late 1970s, the Pakistani city of La...</td>\n",
       "      <td>0.373688</td>\n",
       "      <td>[]</td>\n",
       "      <td>[]</td>\n",
       "      <td>2015-11-13</td>\n",
       "      <td>...</td>\n",
       "      <td>82.0</td>\n",
       "      <td>[اردو, english, ਪੰਜਾਬੀ]</td>\n",
       "      <td>Released</td>\n",
       "      <td>NaN</td>\n",
       "      <td>Song of Lahore</td>\n",
       "      <td>6.5</td>\n",
       "      <td>2.0</td>\n",
       "      <td>[]</td>\n",
       "      <td>Andy Schocken</td>\n",
       "      <td>ur</td>\n",
       "    </tr>\n",
       "    <tr>\n",
       "      <th>41842</th>\n",
       "      <td>no collection</td>\n",
       "      <td>0.0</td>\n",
       "      <td>[documentary]</td>\n",
       "      <td>144410</td>\n",
       "      <td>NaN</td>\n",
       "      <td>Two dancers perform in succession facing a sta...</td>\n",
       "      <td>1.58434</td>\n",
       "      <td>[edison manufacturing company]</td>\n",
       "      <td>[united states of america]</td>\n",
       "      <td>1895-04-01</td>\n",
       "      <td>...</td>\n",
       "      <td>1.0</td>\n",
       "      <td>[no language]</td>\n",
       "      <td>Released</td>\n",
       "      <td>NaN</td>\n",
       "      <td>Annabelle Serpentine Dance</td>\n",
       "      <td>5.7</td>\n",
       "      <td>20.0</td>\n",
       "      <td>[annabelle moore]</td>\n",
       "      <td>William Heise</td>\n",
       "      <td>Sin Idioma</td>\n",
       "    </tr>\n",
       "    <tr>\n",
       "      <th>44027</th>\n",
       "      <td>no collection</td>\n",
       "      <td>0.0</td>\n",
       "      <td>[drama]</td>\n",
       "      <td>380438</td>\n",
       "      <td>NaN</td>\n",
       "      <td>NaN</td>\n",
       "      <td>0.001283</td>\n",
       "      <td>[]</td>\n",
       "      <td>[france]</td>\n",
       "      <td>2001-01-01</td>\n",
       "      <td>...</td>\n",
       "      <td>0.0</td>\n",
       "      <td>[français]</td>\n",
       "      <td>Released</td>\n",
       "      <td>NaN</td>\n",
       "      <td>Lettre d'une inconnue</td>\n",
       "      <td>0.0</td>\n",
       "      <td>0.0</td>\n",
       "      <td>[irène jacob, christopher thompson, joachim bi...</td>\n",
       "      <td>Jacques Deray</td>\n",
       "      <td>fr</td>\n",
       "    </tr>\n",
       "    <tr>\n",
       "      <th>44380</th>\n",
       "      <td>no collection</td>\n",
       "      <td>0.0</td>\n",
       "      <td>[animation, documentary]</td>\n",
       "      <td>381096</td>\n",
       "      <td>NaN</td>\n",
       "      <td>The traditional crafts of crochet and knitting...</td>\n",
       "      <td>0.067624</td>\n",
       "      <td>[]</td>\n",
       "      <td>[]</td>\n",
       "      <td>2016-03-12</td>\n",
       "      <td>...</td>\n",
       "      <td>76.0</td>\n",
       "      <td>[svenska, english, íslenska]</td>\n",
       "      <td>Released</td>\n",
       "      <td>NaN</td>\n",
       "      <td>Yarn</td>\n",
       "      <td>0.0</td>\n",
       "      <td>0.0</td>\n",
       "      <td>[tinna thorudottir thorvaldar, olek, toshiko h...</td>\n",
       "      <td>Heather Millard</td>\n",
       "      <td>sv</td>\n",
       "    </tr>\n",
       "    <tr>\n",
       "      <th>44546</th>\n",
       "      <td>no collection</td>\n",
       "      <td>0.0</td>\n",
       "      <td>[]</td>\n",
       "      <td>381525</td>\n",
       "      <td>NaN</td>\n",
       "      <td>American investment fund buys Austrian compani...</td>\n",
       "      <td>0.030766</td>\n",
       "      <td>[]</td>\n",
       "      <td>[austria]</td>\n",
       "      <td>2016-01-27</td>\n",
       "      <td>...</td>\n",
       "      <td>84.0</td>\n",
       "      <td>[deutsch, english]</td>\n",
       "      <td>Released</td>\n",
       "      <td>NaN</td>\n",
       "      <td>WiNWiN</td>\n",
       "      <td>0.0</td>\n",
       "      <td>0.0</td>\n",
       "      <td>[]</td>\n",
       "      <td>Daniel Hoesl</td>\n",
       "      <td>de</td>\n",
       "    </tr>\n",
       "    <tr>\n",
       "      <th>44625</th>\n",
       "      <td>no collection</td>\n",
       "      <td>0.0</td>\n",
       "      <td>[action, war, drama, history]</td>\n",
       "      <td>104473</td>\n",
       "      <td>NaN</td>\n",
       "      <td>Three military men, seen inside a fortificatio...</td>\n",
       "      <td>0.471325</td>\n",
       "      <td>[star-film]</td>\n",
       "      <td>[france]</td>\n",
       "      <td>1897-01-01</td>\n",
       "      <td>...</td>\n",
       "      <td>1.0</td>\n",
       "      <td>[no language]</td>\n",
       "      <td>Rumored</td>\n",
       "      <td>NaN</td>\n",
       "      <td>The Surrender of Tournavos</td>\n",
       "      <td>4.6</td>\n",
       "      <td>5.0</td>\n",
       "      <td>[]</td>\n",
       "      <td>Georges Méliès</td>\n",
       "      <td>Sin Idioma</td>\n",
       "    </tr>\n",
       "  </tbody>\n",
       "</table>\n",
       "<p>11 rows × 21 columns</p>\n",
       "</div>"
      ],
      "text/plain": [
       "      belongs_to_collection  budget                         genres      id  \\\n",
       "19566         no collection     0.0                  [documentary]  283101   \n",
       "21589         no collection     0.0               [romance, drama]  103902   \n",
       "22817         no collection     0.0                 [war, western]  359195   \n",
       "32118         no collection     0.0                       [comedy]  147050   \n",
       "37380         no collection     0.0                    [animation]  257095   \n",
       "41017         no collection     0.0                  [documentary]  332742   \n",
       "41842         no collection     0.0                  [documentary]  144410   \n",
       "44027         no collection     0.0                        [drama]  380438   \n",
       "44380         no collection     0.0       [animation, documentary]  381096   \n",
       "44546         no collection     0.0                             []  381525   \n",
       "44625         no collection     0.0  [action, war, drama, history]  104473   \n",
       "\n",
       "      original_language                                           overview  \\\n",
       "19566               NaN  Documentary about the production of The Third ...   \n",
       "21589               NaN  An Outback farmer takes in an Afghani woman wh...   \n",
       "22817               NaN  A group of Union Army soldiers is charged with...   \n",
       "32118               NaN  George and Gracie enter an elegant drawing roo...   \n",
       "37380               NaN  The first fairy tale transformed into a full-l...   \n",
       "41017               NaN  Until the late 1970s, the Pakistani city of La...   \n",
       "41842               NaN  Two dancers perform in succession facing a sta...   \n",
       "44027               NaN                                                NaN   \n",
       "44380               NaN  The traditional crafts of crochet and knitting...   \n",
       "44546               NaN  American investment fund buys Austrian compani...   \n",
       "44625               NaN  Three military men, seen inside a fortificatio...   \n",
       "\n",
       "      popularity                               production_companies  \\\n",
       "19566   0.017007  [studiocanal, british broadcasting corporation...   \n",
       "21589   0.359818                  [new holland pictures, idtv film]   \n",
       "22817   0.070647                       [associated producers (api)]   \n",
       "32118   0.073418          [warner bros., the vitaphone corporation]   \n",
       "37380   0.036841                       [ceskoslovenský státní film]   \n",
       "41017   0.373688                                                 []   \n",
       "41842    1.58434                     [edison manufacturing company]   \n",
       "44027   0.001283                                                 []   \n",
       "44380   0.067624                                                 []   \n",
       "44546   0.030766                                                 []   \n",
       "44625   0.471325                                        [star-film]   \n",
       "\n",
       "                                    production_countries release_date  ...  \\\n",
       "19566  [austria, france, japan, united kingdom, unite...   2004-10-11  ...   \n",
       "21589                                        [australia]   2007-08-04  ...   \n",
       "22817                         [united states of america]   1960-03-31  ...   \n",
       "32118                         [united states of america]   1929-10-31  ...   \n",
       "37380                                   [czech republic]   1950-01-26  ...   \n",
       "41017                                                 []   2015-11-13  ...   \n",
       "41842                         [united states of america]   1895-04-01  ...   \n",
       "44027                                           [france]   2001-01-01  ...   \n",
       "44380                                                 []   2016-03-12  ...   \n",
       "44546                                          [austria]   2016-01-27  ...   \n",
       "44625                                           [france]   1897-01-01  ...   \n",
       "\n",
       "       runtime              spoken_languages    status tagline  \\\n",
       "19566     95.0            [deutsch, english]  Released     NaN   \n",
       "21589     94.0                     [english]  Released     NaN   \n",
       "22817     69.0                     [english]  Released     NaN   \n",
       "32118      8.0                     [english]  Released     NaN   \n",
       "37380     87.0                       [český]  Released     NaN   \n",
       "41017     82.0       [اردو, english, ਪੰਜਾਬੀ]  Released     NaN   \n",
       "41842      1.0                 [no language]  Released     NaN   \n",
       "44027      0.0                    [français]  Released     NaN   \n",
       "44380     76.0  [svenska, english, íslenska]  Released     NaN   \n",
       "44546     84.0            [deutsch, english]  Released     NaN   \n",
       "44625      1.0                 [no language]   Rumored     NaN   \n",
       "\n",
       "                            title vote_average  vote_count  \\\n",
       "19566     Shadowing the Third Man          0.0         0.0   \n",
       "21589              Unfinished Sky          6.4         8.0   \n",
       "22817             13 Fighting Men          0.0         0.0   \n",
       "32118                   Lambchops          6.5         2.0   \n",
       "37380               Prince Bayaya          5.0         1.0   \n",
       "41017              Song of Lahore          6.5         2.0   \n",
       "41842  Annabelle Serpentine Dance          5.7        20.0   \n",
       "44027       Lettre d'une inconnue          0.0         0.0   \n",
       "44380                        Yarn          0.0         0.0   \n",
       "44546                      WiNWiN          0.0         0.0   \n",
       "44625  The Surrender of Tournavos          4.6         5.0   \n",
       "\n",
       "                                                    cast          director  \\\n",
       "19566  [john hurt, guy hamilton, angela allen, daniel...   Frederick Baker   \n",
       "21589  [william mcinnes, monic hendrickx, bille brown...      Peter Duncan   \n",
       "22817  [grant williams, brad dexter, carole mathews, ...  Harry W. Gerstad   \n",
       "32118                       [george burns, gracie allen]       Murray Roth   \n",
       "37380                                                 []        Jiří Trnka   \n",
       "41017                                                 []     Andy Schocken   \n",
       "41842                                  [annabelle moore]     William Heise   \n",
       "44027  [irène jacob, christopher thompson, joachim bi...     Jacques Deray   \n",
       "44380  [tinna thorudottir thorvaldar, olek, toshiko h...   Heather Millard   \n",
       "44546                                                 []      Daniel Hoesl   \n",
       "44625                                                 []    Georges Méliès   \n",
       "\n",
       "       first_lang  \n",
       "19566          de  \n",
       "21589          en  \n",
       "22817          en  \n",
       "32118          en  \n",
       "37380          cs  \n",
       "41017          ur  \n",
       "41842  Sin Idioma  \n",
       "44027          fr  \n",
       "44380          sv  \n",
       "44546          de  \n",
       "44625  Sin Idioma  \n",
       "\n",
       "[11 rows x 21 columns]"
      ]
     },
     "execution_count": 38,
     "metadata": {},
     "output_type": "execute_result"
    }
   ],
   "source": [
    "# Verificar valores faltantes en columna \"original_language\"\n",
    "df[df['original_language'].isnull()]"
   ]
  },
  {
   "cell_type": "code",
   "execution_count": 39,
   "id": "56ed211f",
   "metadata": {},
   "outputs": [],
   "source": [
    "# Imputar valores faltantes con valor de columna 'first_lang'\n",
    "df['original_language'].fillna(df['first_lang'], inplace=True)"
   ]
  },
  {
   "cell_type": "code",
   "execution_count": 40,
   "id": "fd422c53",
   "metadata": {},
   "outputs": [
    {
     "data": {
      "text/html": [
       "<div>\n",
       "<style scoped>\n",
       "    .dataframe tbody tr th:only-of-type {\n",
       "        vertical-align: middle;\n",
       "    }\n",
       "\n",
       "    .dataframe tbody tr th {\n",
       "        vertical-align: top;\n",
       "    }\n",
       "\n",
       "    .dataframe thead th {\n",
       "        text-align: right;\n",
       "    }\n",
       "</style>\n",
       "<table border=\"1\" class=\"dataframe\">\n",
       "  <thead>\n",
       "    <tr style=\"text-align: right;\">\n",
       "      <th></th>\n",
       "      <th>belongs_to_collection</th>\n",
       "      <th>budget</th>\n",
       "      <th>genres</th>\n",
       "      <th>id</th>\n",
       "      <th>original_language</th>\n",
       "      <th>overview</th>\n",
       "      <th>popularity</th>\n",
       "      <th>production_companies</th>\n",
       "      <th>production_countries</th>\n",
       "      <th>release_date</th>\n",
       "      <th>...</th>\n",
       "      <th>runtime</th>\n",
       "      <th>spoken_languages</th>\n",
       "      <th>status</th>\n",
       "      <th>tagline</th>\n",
       "      <th>title</th>\n",
       "      <th>vote_average</th>\n",
       "      <th>vote_count</th>\n",
       "      <th>cast</th>\n",
       "      <th>director</th>\n",
       "      <th>first_lang</th>\n",
       "    </tr>\n",
       "  </thead>\n",
       "  <tbody>\n",
       "    <tr>\n",
       "      <th>0</th>\n",
       "      <td>toy story collection</td>\n",
       "      <td>30000000.0</td>\n",
       "      <td>[animation, comedy, family]</td>\n",
       "      <td>862</td>\n",
       "      <td>en</td>\n",
       "      <td>Led by Woody, Andy's toys live happily in his ...</td>\n",
       "      <td>21.946943</td>\n",
       "      <td>[pixar animation studios]</td>\n",
       "      <td>[united states of america]</td>\n",
       "      <td>1995-10-30</td>\n",
       "      <td>...</td>\n",
       "      <td>81.0</td>\n",
       "      <td>[english]</td>\n",
       "      <td>Released</td>\n",
       "      <td>NaN</td>\n",
       "      <td>Toy Story</td>\n",
       "      <td>7.7</td>\n",
       "      <td>5415.0</td>\n",
       "      <td>[tom hanks, tim allen, don rickles, jim varney...</td>\n",
       "      <td>John Lasseter</td>\n",
       "      <td>en</td>\n",
       "    </tr>\n",
       "    <tr>\n",
       "      <th>1</th>\n",
       "      <td>no collection</td>\n",
       "      <td>65000000.0</td>\n",
       "      <td>[adventure, fantasy, family]</td>\n",
       "      <td>8844</td>\n",
       "      <td>en</td>\n",
       "      <td>When siblings Judy and Peter discover an encha...</td>\n",
       "      <td>17.015539</td>\n",
       "      <td>[tristar pictures, teitler film, interscope co...</td>\n",
       "      <td>[united states of america]</td>\n",
       "      <td>1995-12-15</td>\n",
       "      <td>...</td>\n",
       "      <td>104.0</td>\n",
       "      <td>[english, français]</td>\n",
       "      <td>Released</td>\n",
       "      <td>Roll the dice and unleash the excitement!</td>\n",
       "      <td>Jumanji</td>\n",
       "      <td>6.9</td>\n",
       "      <td>2413.0</td>\n",
       "      <td>[robin williams, jonathan hyde, kirsten dunst,...</td>\n",
       "      <td>Joe Johnston</td>\n",
       "      <td>en</td>\n",
       "    </tr>\n",
       "    <tr>\n",
       "      <th>2</th>\n",
       "      <td>grumpy old men collection</td>\n",
       "      <td>0.0</td>\n",
       "      <td>[romance, comedy]</td>\n",
       "      <td>15602</td>\n",
       "      <td>en</td>\n",
       "      <td>A family wedding reignites the ancient feud be...</td>\n",
       "      <td>11.7129</td>\n",
       "      <td>[warner bros., lancaster gate]</td>\n",
       "      <td>[united states of america]</td>\n",
       "      <td>1995-12-22</td>\n",
       "      <td>...</td>\n",
       "      <td>101.0</td>\n",
       "      <td>[english]</td>\n",
       "      <td>Released</td>\n",
       "      <td>Still Yelling. Still Fighting. Still Ready for...</td>\n",
       "      <td>Grumpier Old Men</td>\n",
       "      <td>6.5</td>\n",
       "      <td>92.0</td>\n",
       "      <td>[walter matthau, jack lemmon, ann-margret, sop...</td>\n",
       "      <td>Howard Deutch</td>\n",
       "      <td>en</td>\n",
       "    </tr>\n",
       "    <tr>\n",
       "      <th>3</th>\n",
       "      <td>no collection</td>\n",
       "      <td>16000000.0</td>\n",
       "      <td>[comedy, drama, romance]</td>\n",
       "      <td>31357</td>\n",
       "      <td>en</td>\n",
       "      <td>Cheated on, mistreated and stepped on, the wom...</td>\n",
       "      <td>3.859495</td>\n",
       "      <td>[twentieth century fox film corporation]</td>\n",
       "      <td>[united states of america]</td>\n",
       "      <td>1995-12-22</td>\n",
       "      <td>...</td>\n",
       "      <td>127.0</td>\n",
       "      <td>[english]</td>\n",
       "      <td>Released</td>\n",
       "      <td>Friends are the people who let you be yourself...</td>\n",
       "      <td>Waiting to Exhale</td>\n",
       "      <td>6.1</td>\n",
       "      <td>34.0</td>\n",
       "      <td>[whitney houston, angela bassett, loretta devi...</td>\n",
       "      <td>Forest Whitaker</td>\n",
       "      <td>en</td>\n",
       "    </tr>\n",
       "    <tr>\n",
       "      <th>4</th>\n",
       "      <td>father of the bride collection</td>\n",
       "      <td>0.0</td>\n",
       "      <td>[comedy]</td>\n",
       "      <td>11862</td>\n",
       "      <td>en</td>\n",
       "      <td>Just when George Banks has recovered from his ...</td>\n",
       "      <td>8.387519</td>\n",
       "      <td>[sandollar productions, touchstone pictures]</td>\n",
       "      <td>[united states of america]</td>\n",
       "      <td>1995-02-10</td>\n",
       "      <td>...</td>\n",
       "      <td>106.0</td>\n",
       "      <td>[english]</td>\n",
       "      <td>Released</td>\n",
       "      <td>Just When His World Is Back To Normal... He's ...</td>\n",
       "      <td>Father of the Bride Part II</td>\n",
       "      <td>5.7</td>\n",
       "      <td>173.0</td>\n",
       "      <td>[steve martin, diane keaton, martin short, kim...</td>\n",
       "      <td>Charles Shyer</td>\n",
       "      <td>en</td>\n",
       "    </tr>\n",
       "  </tbody>\n",
       "</table>\n",
       "<p>5 rows × 21 columns</p>\n",
       "</div>"
      ],
      "text/plain": [
       "            belongs_to_collection      budget                        genres  \\\n",
       "0            toy story collection  30000000.0   [animation, comedy, family]   \n",
       "1                   no collection  65000000.0  [adventure, fantasy, family]   \n",
       "2       grumpy old men collection         0.0             [romance, comedy]   \n",
       "3                   no collection  16000000.0      [comedy, drama, romance]   \n",
       "4  father of the bride collection         0.0                      [comedy]   \n",
       "\n",
       "      id original_language                                           overview  \\\n",
       "0    862                en  Led by Woody, Andy's toys live happily in his ...   \n",
       "1   8844                en  When siblings Judy and Peter discover an encha...   \n",
       "2  15602                en  A family wedding reignites the ancient feud be...   \n",
       "3  31357                en  Cheated on, mistreated and stepped on, the wom...   \n",
       "4  11862                en  Just when George Banks has recovered from his ...   \n",
       "\n",
       "  popularity                               production_companies  \\\n",
       "0  21.946943                          [pixar animation studios]   \n",
       "1  17.015539  [tristar pictures, teitler film, interscope co...   \n",
       "2    11.7129                     [warner bros., lancaster gate]   \n",
       "3   3.859495           [twentieth century fox film corporation]   \n",
       "4   8.387519       [sandollar productions, touchstone pictures]   \n",
       "\n",
       "         production_countries release_date  ...  runtime     spoken_languages  \\\n",
       "0  [united states of america]   1995-10-30  ...     81.0            [english]   \n",
       "1  [united states of america]   1995-12-15  ...    104.0  [english, français]   \n",
       "2  [united states of america]   1995-12-22  ...    101.0            [english]   \n",
       "3  [united states of america]   1995-12-22  ...    127.0            [english]   \n",
       "4  [united states of america]   1995-02-10  ...    106.0            [english]   \n",
       "\n",
       "     status                                            tagline  \\\n",
       "0  Released                                                NaN   \n",
       "1  Released          Roll the dice and unleash the excitement!   \n",
       "2  Released  Still Yelling. Still Fighting. Still Ready for...   \n",
       "3  Released  Friends are the people who let you be yourself...   \n",
       "4  Released  Just When His World Is Back To Normal... He's ...   \n",
       "\n",
       "                         title vote_average  vote_count  \\\n",
       "0                    Toy Story          7.7      5415.0   \n",
       "1                      Jumanji          6.9      2413.0   \n",
       "2             Grumpier Old Men          6.5        92.0   \n",
       "3            Waiting to Exhale          6.1        34.0   \n",
       "4  Father of the Bride Part II          5.7       173.0   \n",
       "\n",
       "                                                cast         director  \\\n",
       "0  [tom hanks, tim allen, don rickles, jim varney...    John Lasseter   \n",
       "1  [robin williams, jonathan hyde, kirsten dunst,...     Joe Johnston   \n",
       "2  [walter matthau, jack lemmon, ann-margret, sop...    Howard Deutch   \n",
       "3  [whitney houston, angela bassett, loretta devi...  Forest Whitaker   \n",
       "4  [steve martin, diane keaton, martin short, kim...    Charles Shyer   \n",
       "\n",
       "  first_lang  \n",
       "0         en  \n",
       "1         en  \n",
       "2         en  \n",
       "3         en  \n",
       "4         en  \n",
       "\n",
       "[5 rows x 21 columns]"
      ]
     },
     "execution_count": 40,
     "metadata": {},
     "output_type": "execute_result"
    }
   ],
   "source": [
    "df.head()"
   ]
  },
  {
   "cell_type": "code",
   "execution_count": 41,
   "id": "a08814be",
   "metadata": {},
   "outputs": [
    {
     "data": {
      "text/html": [
       "<div>\n",
       "<style scoped>\n",
       "    .dataframe tbody tr th:only-of-type {\n",
       "        vertical-align: middle;\n",
       "    }\n",
       "\n",
       "    .dataframe tbody tr th {\n",
       "        vertical-align: top;\n",
       "    }\n",
       "\n",
       "    .dataframe thead th {\n",
       "        text-align: right;\n",
       "    }\n",
       "</style>\n",
       "<table border=\"1\" class=\"dataframe\">\n",
       "  <thead>\n",
       "    <tr style=\"text-align: right;\">\n",
       "      <th></th>\n",
       "      <th>belongs_to_collection</th>\n",
       "      <th>budget</th>\n",
       "      <th>genres</th>\n",
       "      <th>id</th>\n",
       "      <th>original_language</th>\n",
       "      <th>overview</th>\n",
       "      <th>popularity</th>\n",
       "      <th>production_companies</th>\n",
       "      <th>production_countries</th>\n",
       "      <th>release_date</th>\n",
       "      <th>...</th>\n",
       "      <th>runtime</th>\n",
       "      <th>spoken_languages</th>\n",
       "      <th>status</th>\n",
       "      <th>tagline</th>\n",
       "      <th>title</th>\n",
       "      <th>vote_average</th>\n",
       "      <th>vote_count</th>\n",
       "      <th>cast</th>\n",
       "      <th>director</th>\n",
       "      <th>first_lang</th>\n",
       "    </tr>\n",
       "  </thead>\n",
       "  <tbody>\n",
       "    <tr>\n",
       "      <th>41017</th>\n",
       "      <td>no collection</td>\n",
       "      <td>0.0</td>\n",
       "      <td>[documentary]</td>\n",
       "      <td>332742</td>\n",
       "      <td>ur</td>\n",
       "      <td>Until the late 1970s, the Pakistani city of La...</td>\n",
       "      <td>0.373688</td>\n",
       "      <td>[]</td>\n",
       "      <td>[]</td>\n",
       "      <td>2015-11-13</td>\n",
       "      <td>...</td>\n",
       "      <td>82.0</td>\n",
       "      <td>[اردو, english, ਪੰਜਾਬੀ]</td>\n",
       "      <td>Released</td>\n",
       "      <td>NaN</td>\n",
       "      <td>Song of Lahore</td>\n",
       "      <td>6.5</td>\n",
       "      <td>2.0</td>\n",
       "      <td>[]</td>\n",
       "      <td>Andy Schocken</td>\n",
       "      <td>ur</td>\n",
       "    </tr>\n",
       "  </tbody>\n",
       "</table>\n",
       "<p>1 rows × 21 columns</p>\n",
       "</div>"
      ],
      "text/plain": [
       "      belongs_to_collection  budget         genres      id original_language  \\\n",
       "41017         no collection     0.0  [documentary]  332742                ur   \n",
       "\n",
       "                                                overview popularity  \\\n",
       "41017  Until the late 1970s, the Pakistani city of La...   0.373688   \n",
       "\n",
       "      production_companies production_countries release_date  ...  runtime  \\\n",
       "41017                   []                   []   2015-11-13  ...     82.0   \n",
       "\n",
       "              spoken_languages    status tagline           title vote_average  \\\n",
       "41017  [اردو, english, ਪੰਜਾਬੀ]  Released     NaN  Song of Lahore          6.5   \n",
       "\n",
       "       vote_count  cast       director first_lang  \n",
       "41017         2.0    []  Andy Schocken         ur  \n",
       "\n",
       "[1 rows x 21 columns]"
      ]
     },
     "execution_count": 41,
     "metadata": {},
     "output_type": "execute_result"
    }
   ],
   "source": [
    "df[df['title'] == 'Song of Lahore']"
   ]
  },
  {
   "cell_type": "code",
   "execution_count": 42,
   "id": "6a8e9855",
   "metadata": {},
   "outputs": [
    {
     "data": {
      "text/plain": [
       "belongs_to_collection     0.000000\n",
       "budget                    0.000000\n",
       "genres                    0.000000\n",
       "id                        0.000000\n",
       "original_language         0.000000\n",
       "overview                  2.099795\n",
       "popularity                0.006603\n",
       "production_companies      0.000000\n",
       "production_countries      0.000000\n",
       "release_date              0.191491\n",
       "revenue                   0.006603\n",
       "runtime                   0.572271\n",
       "spoken_languages          0.000000\n",
       "status                    0.184888\n",
       "tagline                  55.096516\n",
       "title                     0.006603\n",
       "vote_average              0.006603\n",
       "vote_count                0.006603\n",
       "cast                      0.000000\n",
       "director                  1.954526\n",
       "first_lang                0.609689\n",
       "dtype: float64"
      ]
     },
     "execution_count": 42,
     "metadata": {},
     "output_type": "execute_result"
    }
   ],
   "source": [
    "df.isnull().sum()*100/df.shape[0]"
   ]
  },
  {
   "cell_type": "markdown",
   "id": "8ddc87e9",
   "metadata": {},
   "source": [
    "### Eliminar otras columnas no requeridas para el análisis"
   ]
  },
  {
   "cell_type": "code",
   "execution_count": 43,
   "id": "6d1f1fda",
   "metadata": {},
   "outputs": [
    {
     "data": {
      "text/html": [
       "<div>\n",
       "<style scoped>\n",
       "    .dataframe tbody tr th:only-of-type {\n",
       "        vertical-align: middle;\n",
       "    }\n",
       "\n",
       "    .dataframe tbody tr th {\n",
       "        vertical-align: top;\n",
       "    }\n",
       "\n",
       "    .dataframe thead th {\n",
       "        text-align: right;\n",
       "    }\n",
       "</style>\n",
       "<table border=\"1\" class=\"dataframe\">\n",
       "  <thead>\n",
       "    <tr style=\"text-align: right;\">\n",
       "      <th></th>\n",
       "      <th>belongs_to_collection</th>\n",
       "      <th>budget</th>\n",
       "      <th>genres</th>\n",
       "      <th>id</th>\n",
       "      <th>original_language</th>\n",
       "      <th>overview</th>\n",
       "      <th>production_companies</th>\n",
       "      <th>production_countries</th>\n",
       "      <th>release_date</th>\n",
       "      <th>revenue</th>\n",
       "      <th>runtime</th>\n",
       "      <th>tagline</th>\n",
       "      <th>title</th>\n",
       "      <th>cast</th>\n",
       "      <th>director</th>\n",
       "    </tr>\n",
       "  </thead>\n",
       "  <tbody>\n",
       "    <tr>\n",
       "      <th>0</th>\n",
       "      <td>toy story collection</td>\n",
       "      <td>30000000.0</td>\n",
       "      <td>[animation, comedy, family]</td>\n",
       "      <td>862</td>\n",
       "      <td>en</td>\n",
       "      <td>Led by Woody, Andy's toys live happily in his ...</td>\n",
       "      <td>[pixar animation studios]</td>\n",
       "      <td>[united states of america]</td>\n",
       "      <td>1995-10-30</td>\n",
       "      <td>373554033.0</td>\n",
       "      <td>81.0</td>\n",
       "      <td>NaN</td>\n",
       "      <td>Toy Story</td>\n",
       "      <td>[tom hanks, tim allen, don rickles, jim varney...</td>\n",
       "      <td>John Lasseter</td>\n",
       "    </tr>\n",
       "    <tr>\n",
       "      <th>1</th>\n",
       "      <td>no collection</td>\n",
       "      <td>65000000.0</td>\n",
       "      <td>[adventure, fantasy, family]</td>\n",
       "      <td>8844</td>\n",
       "      <td>en</td>\n",
       "      <td>When siblings Judy and Peter discover an encha...</td>\n",
       "      <td>[tristar pictures, teitler film, interscope co...</td>\n",
       "      <td>[united states of america]</td>\n",
       "      <td>1995-12-15</td>\n",
       "      <td>262797249.0</td>\n",
       "      <td>104.0</td>\n",
       "      <td>Roll the dice and unleash the excitement!</td>\n",
       "      <td>Jumanji</td>\n",
       "      <td>[robin williams, jonathan hyde, kirsten dunst,...</td>\n",
       "      <td>Joe Johnston</td>\n",
       "    </tr>\n",
       "    <tr>\n",
       "      <th>2</th>\n",
       "      <td>grumpy old men collection</td>\n",
       "      <td>0.0</td>\n",
       "      <td>[romance, comedy]</td>\n",
       "      <td>15602</td>\n",
       "      <td>en</td>\n",
       "      <td>A family wedding reignites the ancient feud be...</td>\n",
       "      <td>[warner bros., lancaster gate]</td>\n",
       "      <td>[united states of america]</td>\n",
       "      <td>1995-12-22</td>\n",
       "      <td>0.0</td>\n",
       "      <td>101.0</td>\n",
       "      <td>Still Yelling. Still Fighting. Still Ready for...</td>\n",
       "      <td>Grumpier Old Men</td>\n",
       "      <td>[walter matthau, jack lemmon, ann-margret, sop...</td>\n",
       "      <td>Howard Deutch</td>\n",
       "    </tr>\n",
       "    <tr>\n",
       "      <th>3</th>\n",
       "      <td>no collection</td>\n",
       "      <td>16000000.0</td>\n",
       "      <td>[comedy, drama, romance]</td>\n",
       "      <td>31357</td>\n",
       "      <td>en</td>\n",
       "      <td>Cheated on, mistreated and stepped on, the wom...</td>\n",
       "      <td>[twentieth century fox film corporation]</td>\n",
       "      <td>[united states of america]</td>\n",
       "      <td>1995-12-22</td>\n",
       "      <td>81452156.0</td>\n",
       "      <td>127.0</td>\n",
       "      <td>Friends are the people who let you be yourself...</td>\n",
       "      <td>Waiting to Exhale</td>\n",
       "      <td>[whitney houston, angela bassett, loretta devi...</td>\n",
       "      <td>Forest Whitaker</td>\n",
       "    </tr>\n",
       "    <tr>\n",
       "      <th>4</th>\n",
       "      <td>father of the bride collection</td>\n",
       "      <td>0.0</td>\n",
       "      <td>[comedy]</td>\n",
       "      <td>11862</td>\n",
       "      <td>en</td>\n",
       "      <td>Just when George Banks has recovered from his ...</td>\n",
       "      <td>[sandollar productions, touchstone pictures]</td>\n",
       "      <td>[united states of america]</td>\n",
       "      <td>1995-02-10</td>\n",
       "      <td>76578911.0</td>\n",
       "      <td>106.0</td>\n",
       "      <td>Just When His World Is Back To Normal... He's ...</td>\n",
       "      <td>Father of the Bride Part II</td>\n",
       "      <td>[steve martin, diane keaton, martin short, kim...</td>\n",
       "      <td>Charles Shyer</td>\n",
       "    </tr>\n",
       "  </tbody>\n",
       "</table>\n",
       "</div>"
      ],
      "text/plain": [
       "            belongs_to_collection      budget                        genres  \\\n",
       "0            toy story collection  30000000.0   [animation, comedy, family]   \n",
       "1                   no collection  65000000.0  [adventure, fantasy, family]   \n",
       "2       grumpy old men collection         0.0             [romance, comedy]   \n",
       "3                   no collection  16000000.0      [comedy, drama, romance]   \n",
       "4  father of the bride collection         0.0                      [comedy]   \n",
       "\n",
       "      id original_language                                           overview  \\\n",
       "0    862                en  Led by Woody, Andy's toys live happily in his ...   \n",
       "1   8844                en  When siblings Judy and Peter discover an encha...   \n",
       "2  15602                en  A family wedding reignites the ancient feud be...   \n",
       "3  31357                en  Cheated on, mistreated and stepped on, the wom...   \n",
       "4  11862                en  Just when George Banks has recovered from his ...   \n",
       "\n",
       "                                production_companies  \\\n",
       "0                          [pixar animation studios]   \n",
       "1  [tristar pictures, teitler film, interscope co...   \n",
       "2                     [warner bros., lancaster gate]   \n",
       "3           [twentieth century fox film corporation]   \n",
       "4       [sandollar productions, touchstone pictures]   \n",
       "\n",
       "         production_countries release_date      revenue  runtime  \\\n",
       "0  [united states of america]   1995-10-30  373554033.0     81.0   \n",
       "1  [united states of america]   1995-12-15  262797249.0    104.0   \n",
       "2  [united states of america]   1995-12-22          0.0    101.0   \n",
       "3  [united states of america]   1995-12-22   81452156.0    127.0   \n",
       "4  [united states of america]   1995-02-10   76578911.0    106.0   \n",
       "\n",
       "                                             tagline  \\\n",
       "0                                                NaN   \n",
       "1          Roll the dice and unleash the excitement!   \n",
       "2  Still Yelling. Still Fighting. Still Ready for...   \n",
       "3  Friends are the people who let you be yourself...   \n",
       "4  Just When His World Is Back To Normal... He's ...   \n",
       "\n",
       "                         title  \\\n",
       "0                    Toy Story   \n",
       "1                      Jumanji   \n",
       "2             Grumpier Old Men   \n",
       "3            Waiting to Exhale   \n",
       "4  Father of the Bride Part II   \n",
       "\n",
       "                                                cast         director  \n",
       "0  [tom hanks, tim allen, don rickles, jim varney...    John Lasseter  \n",
       "1  [robin williams, jonathan hyde, kirsten dunst,...     Joe Johnston  \n",
       "2  [walter matthau, jack lemmon, ann-margret, sop...    Howard Deutch  \n",
       "3  [whitney houston, angela bassett, loretta devi...  Forest Whitaker  \n",
       "4  [steve martin, diane keaton, martin short, kim...    Charles Shyer  "
      ]
     },
     "execution_count": 43,
     "metadata": {},
     "output_type": "execute_result"
    }
   ],
   "source": [
    "df.drop(['first_lang', 'status', 'popularity', 'spoken_languages', 'vote_average', 'vote_count'], axis=1, inplace=True)\n",
    "df.head()"
   ]
  },
  {
   "cell_type": "code",
   "execution_count": 44,
   "id": "e1c1ef05",
   "metadata": {},
   "outputs": [
    {
     "data": {
      "text/plain": [
       "belongs_to_collection     0.000000\n",
       "budget                    0.000000\n",
       "genres                    0.000000\n",
       "id                        0.000000\n",
       "original_language         0.000000\n",
       "overview                  2.099795\n",
       "production_companies      0.000000\n",
       "production_countries      0.000000\n",
       "release_date              0.191491\n",
       "revenue                   0.006603\n",
       "runtime                   0.572271\n",
       "tagline                  55.096516\n",
       "title                     0.006603\n",
       "cast                      0.000000\n",
       "director                  1.954526\n",
       "dtype: float64"
      ]
     },
     "execution_count": 44,
     "metadata": {},
     "output_type": "execute_result"
    }
   ],
   "source": [
    "df.isnull().sum()*100/df.shape[0]"
   ]
  },
  {
   "cell_type": "markdown",
   "id": "08c42e41",
   "metadata": {},
   "source": [
    "### 2.10 Crear la columna con el retorno de inversión"
   ]
  },
  {
   "cell_type": "markdown",
   "id": "3ccb0662",
   "metadata": {},
   "source": [
    "#### 2.10.1 imputar con **0** valores nulos de columna `revenue`"
   ]
  },
  {
   "cell_type": "code",
   "execution_count": 45,
   "id": "792089d3",
   "metadata": {},
   "outputs": [],
   "source": [
    "df['revenue'].fillna(0, inplace=True)"
   ]
  },
  {
   "cell_type": "markdown",
   "id": "08dcb0e0",
   "metadata": {},
   "source": [
    "#### 2.10.2 Crear la columna con el retorno de inversión, llamada return con los campos revenue y budget, dividiendo estas dos últimas revenue / budget, cuando no hay datos disponibles para calcularlo, deberá tomar el valor 0"
   ]
  },
  {
   "cell_type": "code",
   "execution_count": 46,
   "id": "8e7b7686",
   "metadata": {
    "scrolled": true
   },
   "outputs": [],
   "source": [
    "df['return'] = df.apply(lambda x: x['revenue'] / x['budget'] if x['budget'] != 0 else 0, axis=1)"
   ]
  },
  {
   "cell_type": "code",
   "execution_count": 47,
   "id": "4a6b1b64",
   "metadata": {
    "scrolled": true
   },
   "outputs": [
    {
     "data": {
      "text/plain": [
       "belongs_to_collection     0.000000\n",
       "budget                    0.000000\n",
       "genres                    0.000000\n",
       "id                        0.000000\n",
       "original_language         0.000000\n",
       "overview                  2.099795\n",
       "production_companies      0.000000\n",
       "production_countries      0.000000\n",
       "release_date              0.191491\n",
       "revenue                   0.000000\n",
       "runtime                   0.572271\n",
       "tagline                  55.096516\n",
       "title                     0.006603\n",
       "cast                      0.000000\n",
       "director                  1.954526\n",
       "return                    0.000000\n",
       "dtype: float64"
      ]
     },
     "execution_count": 47,
     "metadata": {},
     "output_type": "execute_result"
    }
   ],
   "source": [
    "df.isnull().sum()*100/df.shape[0]"
   ]
  },
  {
   "cell_type": "markdown",
   "id": "6cde20c7",
   "metadata": {},
   "source": [
    "#### 2.10.3 Crear columna `year` "
   ]
  },
  {
   "cell_type": "code",
   "execution_count": 48,
   "id": "b9ff368c",
   "metadata": {},
   "outputs": [
    {
     "name": "stdout",
     "output_type": "stream",
     "text": [
      "<class 'pandas.core.series.Series'>\n",
      "RangeIndex: 45433 entries, 0 to 45432\n",
      "Series name: release_date\n",
      "Non-Null Count  Dtype \n",
      "--------------  ----- \n",
      "45346 non-null  object\n",
      "dtypes: object(1)\n",
      "memory usage: 355.1+ KB\n"
     ]
    }
   ],
   "source": [
    "# Verificar información de columna \"release_date\"\n",
    "df['release_date'].info()"
   ]
  },
  {
   "cell_type": "code",
   "execution_count": 49,
   "id": "7ab3f9ca",
   "metadata": {},
   "outputs": [],
   "source": [
    "# Cambiar a tipo datetime columna \"release_date\" y se crea la columna release_year \n",
    "df['release_date'] = pd.to_datetime(df['release_date'], format= '%Y-%m-%d', errors='coerce')\n",
    "df['release_year'] = df['release_date'].dt.year"
   ]
  },
  {
   "cell_type": "code",
   "execution_count": 50,
   "id": "3b1c7435",
   "metadata": {},
   "outputs": [
    {
     "name": "stdout",
     "output_type": "stream",
     "text": [
      "<class 'pandas.core.frame.DataFrame'>\n",
      "RangeIndex: 45433 entries, 0 to 45432\n",
      "Data columns (total 2 columns):\n",
      " #   Column        Non-Null Count  Dtype         \n",
      "---  ------        --------------  -----         \n",
      " 0   release_date  45346 non-null  datetime64[ns]\n",
      " 1   release_year  45346 non-null  Int64         \n",
      "dtypes: Int64(1), datetime64[ns](1)\n",
      "memory usage: 754.4 KB\n"
     ]
    }
   ],
   "source": [
    "# Pasar a int los datos de la columna release_year ya que la transformación los entrego como float64\n",
    "df['release_year'] = df['release_year'].astype('Int64')\n",
    "df[['release_date', 'release_year']].info()"
   ]
  },
  {
   "cell_type": "code",
   "execution_count": 51,
   "id": "ba1c5e29",
   "metadata": {},
   "outputs": [
    {
     "name": "stdout",
     "output_type": "stream",
     "text": [
      "<class 'pandas.core.frame.DataFrame'>\n",
      "RangeIndex: 45433 entries, 0 to 45432\n",
      "Data columns (total 2 columns):\n",
      " #   Column        Non-Null Count  Dtype         \n",
      "---  ------        --------------  -----         \n",
      " 0   release_date  45346 non-null  datetime64[ns]\n",
      " 1   release_year  45346 non-null  Int64         \n",
      "dtypes: Int64(1), datetime64[ns](1)\n",
      "memory usage: 754.4 KB\n"
     ]
    }
   ],
   "source": [
    "df[['release_date', 'release_year']].info()"
   ]
  },
  {
   "cell_type": "markdown",
   "id": "f2f88a34",
   "metadata": {},
   "source": [
    "### 2.11 Eliminar columna `tagline`"
   ]
  },
  {
   "cell_type": "code",
   "execution_count": 52,
   "id": "0f86c4b8",
   "metadata": {},
   "outputs": [],
   "source": [
    "# Se elimina la columna \"tagline\" ya que presenta un 55.10% de datos nulos\n",
    "df.drop(['tagline'], axis=1, inplace=True)"
   ]
  },
  {
   "cell_type": "markdown",
   "id": "fd97d637",
   "metadata": {},
   "source": [
    "### 2.12 Eliminar filas con datos nulos"
   ]
  },
  {
   "cell_type": "code",
   "execution_count": 53,
   "id": "113fa269",
   "metadata": {},
   "outputs": [],
   "source": [
    "# Se eliminan las filas que quedan y contienen datos nulos\n",
    "df_clean = df.dropna()"
   ]
  },
  {
   "cell_type": "code",
   "execution_count": 54,
   "id": "42d4f1c0",
   "metadata": {},
   "outputs": [
    {
     "name": "stdout",
     "output_type": "stream",
     "text": [
      "Cantidad de registros dataset original sin filas repetidas:  45433\n",
      "Cantidad de registros dataset limpio:  43641\n",
      "********************************************************************************\n",
      "El DataFrame Limpio (df_clean) mantiene el 96.06% de los datos originales\n",
      "********************************************************************************\n"
     ]
    }
   ],
   "source": [
    "print('Cantidad de registros dataset original sin filas repetidas: ', df.shape[0])\n",
    "print('Cantidad de registros dataset limpio: ', df_clean.shape[0])\n",
    "print('*' * 80)\n",
    "print(f'El DataFrame Limpio (df_clean) mantiene el {round(df_clean.shape[0]*100/df.shape[0], 2)}% de los datos originales')\n",
    "print('*' * 80)"
   ]
  },
  {
   "cell_type": "code",
   "execution_count": 55,
   "id": "d9d5682a",
   "metadata": {
    "scrolled": true
   },
   "outputs": [
    {
     "data": {
      "text/plain": [
       "belongs_to_collection    0.0\n",
       "budget                   0.0\n",
       "genres                   0.0\n",
       "id                       0.0\n",
       "original_language        0.0\n",
       "overview                 0.0\n",
       "production_companies     0.0\n",
       "production_countries     0.0\n",
       "release_date             0.0\n",
       "revenue                  0.0\n",
       "runtime                  0.0\n",
       "title                    0.0\n",
       "cast                     0.0\n",
       "director                 0.0\n",
       "return                   0.0\n",
       "release_year             0.0\n",
       "dtype: float64"
      ]
     },
     "execution_count": 55,
     "metadata": {},
     "output_type": "execute_result"
    }
   ],
   "source": [
    "df_clean.isnull().sum()*100/df_clean.shape[0]"
   ]
  },
  {
   "cell_type": "code",
   "execution_count": 56,
   "id": "dba777f3",
   "metadata": {},
   "outputs": [
    {
     "data": {
      "text/plain": [
       "belongs_to_collection    0.000000\n",
       "budget                   0.000000\n",
       "genres                   0.000000\n",
       "id                       0.000000\n",
       "original_language        0.000000\n",
       "overview                 2.099795\n",
       "production_companies     0.000000\n",
       "production_countries     0.000000\n",
       "release_date             0.191491\n",
       "revenue                  0.000000\n",
       "runtime                  0.572271\n",
       "title                    0.006603\n",
       "cast                     0.000000\n",
       "director                 1.954526\n",
       "return                   0.000000\n",
       "release_year             0.191491\n",
       "dtype: float64"
      ]
     },
     "execution_count": 56,
     "metadata": {},
     "output_type": "execute_result"
    }
   ],
   "source": [
    "df.isnull().sum()*100/df.shape[0]"
   ]
  },
  {
   "cell_type": "markdown",
   "id": "efe01d8d",
   "metadata": {},
   "source": [
    "## 3. Generar archivos para trabajar limpios"
   ]
  },
  {
   "cell_type": "code",
   "execution_count": 57,
   "id": "261c42aa",
   "metadata": {},
   "outputs": [],
   "source": [
    "# Generar archivo movies_cleaned.csv\n",
    "df_clean.to_csv('datasets/movies_cleaned.csv', index=False, encoding='utf-8')\n",
    "\n",
    "# Generar archivo movies_reduced.csv\n",
    "df.to_csv('datasets/movies_reduced.csv', index=False, encoding='utf-8')"
   ]
  },
  {
   "cell_type": "markdown",
   "id": "60a68609",
   "metadata": {},
   "source": [
    "## <span style=\"color:green\">Final ETL</span>"
   ]
  }
 ],
 "metadata": {
  "kernelspec": {
   "display_name": "Python 3 (ipykernel)",
   "language": "python",
   "name": "python3"
  },
  "language_info": {
   "codemirror_mode": {
    "name": "ipython",
    "version": 3
   },
   "file_extension": ".py",
   "mimetype": "text/x-python",
   "name": "python",
   "nbconvert_exporter": "python",
   "pygments_lexer": "ipython3",
   "version": "3.10.6"
  }
 },
 "nbformat": 4,
 "nbformat_minor": 5
}
